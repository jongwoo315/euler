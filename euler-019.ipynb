{
 "cells": [
  {
   "cell_type": "markdown",
   "metadata": {},
   "source": [
    "### Counting Sundays  \n",
    "*Problem 19*  \n",
    "\n",
    "You are given the following information, but you may prefer to do some research for yourself.  \n",
    "\n",
    "- 1 Jan 1900 was a Monday.  \n",
    "- Thirty days has September,  \n",
    "April, June and November.  \n",
    "All the rest have thirty-one,  \n",
    "Saving February alone,  \n",
    "Which has twenty-eight, rain or shine.  \n",
    "And on leap years, twenty-nine.  \n",
    "- A leap year occurs on any year evenly divisible by 4, but not on a century unless it is divisible by 400.  \n",
    "- 윤년은 연도를 4로 나누어 떨어지는 해를 말한다. 하지만 400으로 나누어 떨어지지 않는 매 100년째는 윤년이 아니며, 400으로 나누어 떨어지면 윤년이다  \n",
    "\n",
    "서력 기원 연수가 4로 나누어떨어지는 해는 윤년으로 한다.(1988년, 1992년, 1996년, 2004년, 2008년, 2012년 …)  \n",
    "이 중에서 100으로 나누어떨어지는 해는 평년으로 한다.(1900년, 2100년, 2200년, 2300년, 2500년 …)  \n",
    "그중에 400으로 나누어떨어지는 해는 윤년으로 둔다.(1600년, 2000년, 2400년 …)  \n",
    "\n",
    "How many Sundays fell on the first of the month during the twentieth century (1 Jan 1901 to 31 Dec 2000)?  "
   ]
  },
  {
   "cell_type": "code",
   "execution_count": 57,
   "metadata": {},
   "outputs": [],
   "source": [
    "def check_leap_year(x):\n",
    "    if x % 4 == 0:\n",
    "        if x%100==0 and x%400!=0:\n",
    "            return False\n",
    "        else:\n",
    "             return True\n",
    "    return False"
   ]
  },
  {
   "cell_type": "code",
   "execution_count": 377,
   "metadata": {},
   "outputs": [],
   "source": [
    "eul = euler19()"
   ]
  },
  {
   "cell_type": "code",
   "execution_count": 387,
   "metadata": {},
   "outputs": [
    {
     "data": {
      "text/plain": [
       "{1900: 1, 1901: 2}"
      ]
     },
     "execution_count": 387,
     "metadata": {},
     "output_type": "execute_result"
    }
   ],
   "source": [
    "eul.starting_day_of_week_each_year"
   ]
  },
  {
   "cell_type": "code",
   "execution_count": 388,
   "metadata": {},
   "outputs": [
    {
     "name": "stdout",
     "output_type": "stream",
     "text": [
      "171\n"
     ]
    }
   ],
   "source": [
    "class euler19:\n",
    "    def __init__(self):\n",
    "        # 일요일-0 , 월요일-1, 화요일-2, 수요일-3, 목요일-4, 금요일-5, 토요일-6\n",
    "        # 해당년도는 무슨 요일로 시작하는가?\n",
    "        self.starting_day_of_week_each_year  = {1900:1, 1901:2}\n",
    "\n",
    "    def check_leap_year(self, x):\n",
    "        if x % 4 == 0:\n",
    "            if x%100==0 and x%400!=0:\n",
    "                return False\n",
    "            else:\n",
    "                 return True\n",
    "        return False\n",
    "\n",
    "    # https://stackoverflow.com/a/17615033/7090516\n",
    "    # multiple of in if statement\n",
    "\n",
    "    # 31일인 달 - 31/7의 나머지는 3 -> 다음달 시작요일 = 전달 시작요일 + 3 (수요일이면 다음달은 토요일)\n",
    "    # 30일인 달 - 30/7의 나머지는 2 -> 다음달 시작요일 = 전달 시작요일 + 2 (토요일이면 다음달은 월요일)\n",
    "    # 28일인 달 - 28/7의 나머지는 0 -> 다음달 시작요일 = 전달 시작요일\n",
    "    # 29일인 달 - 29/7의 나머지는 1 -> 다음달 시작요일 = 전달 시작요일 + 1\n",
    "\n",
    "    # 매핑 {sun:1, mon:2, tue:3, wed:4, thu:5, fri:6, sat:7}\n",
    "    # 전달 시작요일 + a가 7을 넘어가면 7로 나눈 나머지를 계산해야 한다(넘지 않더라도 if문을 하나 줄이기 위해 항상 나머지 연산을 한다)\n",
    "\n",
    "    def check_each_month(self, x):\n",
    "        sunday_starting_month_count = 0\n",
    "\n",
    "        # jan // 1월달의 시작이 일요일인지 아닌지 검사\n",
    "        XXXday = self.starting_day_of_week_each_year[x]\n",
    "        XXXday %= 7\n",
    "        if XXXday == 0:\n",
    "            sunday_starting_month_count += 1\n",
    "        #print (XXXday, '1월 시작요일')\n",
    "        \n",
    "        # jan(31) - feb // 2월달의 시작이 일요일인지 아닌지 검사\n",
    "        XXXday += 3\n",
    "        XXXday %= 7\n",
    "        if XXXday == 0:\n",
    "            sunday_starting_month_count += 1\n",
    "        #print (XXXday, '2월 시작요일')\n",
    "        \n",
    "        # feb(28 or 29) - mar\n",
    "        if not euler19().check_leap_year(x):\n",
    "            # XXXday = XXXday + 0 # 없어도 되는 코드. 28일이면 다음달도 같은 요일로 시작함\n",
    "            XXXday %= 7\n",
    "            if XXXday == 0:\n",
    "                sunday_starting_month_count += 1\n",
    "        else:\n",
    "            XXXday += 1\n",
    "            XXXday %= 7\n",
    "            if XXXday == 0:\n",
    "                sunday_starting_month_count += 1\n",
    "        #print (XXXday, '3월 시작요일')\n",
    "\n",
    "        # mar - dec (12월의 시작요일까지만 계산)\n",
    "        for a in range(3, 12):\n",
    "            if a in {4, 6, 9, 11}:  # 30일\n",
    "                XXXday += 2\n",
    "                XXXday %= 7\n",
    "                if XXXday == 0:\n",
    "                    sunday_starting_month_count += 1\n",
    "                #print (XXXday, a+1, '월달 시작요일')\n",
    "            else:  # 31일\n",
    "                XXXday += 3\n",
    "                XXXday %= 7\n",
    "                if XXXday == 0:\n",
    "                    sunday_starting_month_count += 1\n",
    "                #print (XXXday, a+1, '월달 시작요일')\n",
    "        #print (XXXday, '12월 끝난 후 1월 시작요일')\n",
    "        \n",
    "        # 다음년도 1월의 시작요일\n",
    "        XXXday += 3\n",
    "        XXXday %= 7\n",
    "        self.starting_day_of_week_each_year[x+1] = XXXday\n",
    "        \n",
    "        return sunday_starting_month_count, XXXday\n",
    "    \n",
    "if __name__=='__main__':\n",
    "    eul = euler19()\n",
    "    count_sum = 0\n",
    "    for x in range(1901, 2000+1):\n",
    "        count, next_year_starts_with = eul.check_each_month(x)\n",
    "        count_sum += count\n",
    "    print (count_sum)"
   ]
  },
  {
   "cell_type": "code",
   "execution_count": 391,
   "metadata": {},
   "outputs": [
    {
     "name": "stdout",
     "output_type": "stream",
     "text": [
      "171\n"
     ]
    }
   ],
   "source": [
    "class euler19:\n",
    "    def __init__(self):\n",
    "        self.starting_day_of_week_each_year  = {1900:1, 1901:2}\n",
    "\n",
    "    def check_leap_year(self, x):\n",
    "        if x % 4 == 0:\n",
    "            if x%100==0 and x%400!=0:\n",
    "                return False\n",
    "            else:\n",
    "                 return True\n",
    "        return False\n",
    "\n",
    "    def check_each_month(self, x):\n",
    "        sunday_starting_month_count = 0\n",
    "\n",
    "        XXXday = self.starting_day_of_week_each_year[x]\n",
    "        XXXday %= 7\n",
    "        if XXXday == 0:\n",
    "            sunday_starting_month_count += 1\n",
    "        \n",
    "        XXXday += 3\n",
    "        XXXday %= 7\n",
    "        if XXXday == 0:\n",
    "            sunday_starting_month_count += 1\n",
    "        \n",
    "        if not euler19().check_leap_year(x):\n",
    "            XXXday %= 7\n",
    "            if XXXday == 0:\n",
    "                sunday_starting_month_count += 1\n",
    "        else:\n",
    "            XXXday += 1\n",
    "            XXXday %= 7\n",
    "            if XXXday == 0:\n",
    "                sunday_starting_month_count += 1\n",
    "\n",
    "        for a in range(3, 12):\n",
    "            if a in {4, 6, 9, 11}:  # 30일\n",
    "                XXXday += 2\n",
    "                XXXday %= 7\n",
    "                if XXXday == 0:\n",
    "                    sunday_starting_month_count += 1\n",
    "            else:  # 31일\n",
    "                XXXday += 3\n",
    "                XXXday %= 7\n",
    "                if XXXday == 0:\n",
    "                    sunday_starting_month_count += 1\n",
    "        \n",
    "        XXXday += 3\n",
    "        XXXday %= 7\n",
    "        self.starting_day_of_week_each_year[x+1] = XXXday\n",
    "        \n",
    "        return sunday_starting_month_count, XXXday\n",
    "    \n",
    "if __name__=='__main__':\n",
    "    eul = euler19()\n",
    "    count_sum = 0\n",
    "    for x in range(1901, 2000+1):\n",
    "        count, next_year_starts_with = eul.check_each_month(x)\n",
    "        count_sum += count\n",
    "    print (count_sum)"
   ]
  },
  {
   "cell_type": "code",
   "execution_count": 390,
   "metadata": {},
   "outputs": [
    {
     "name": "stdout",
     "output_type": "stream",
     "text": [
      "171\n"
     ]
    }
   ],
   "source": [
    "w=1 #day of week (0 is monday)\n",
    "m=0 #month (0 to 11)\n",
    "y=1901 #year\n",
    "\n",
    "ms = [31, 0, 31, 30, 31, 30, 31, 31, 30, 31, 30, 31]\n",
    "ss=0 #sundays counter\n",
    "\n",
    "while y<2001:\n",
    "\tif m==1:  # 2월달 체크\n",
    "\t\tif y%4==0:\n",
    "\t\t\tw = (w+29)%7\n",
    "\t\telse:\n",
    "\t\t\tw = (w+28)%7\n",
    "\telse:  # 이 코드는 1901년 1월부터 시작하는데, 해당년월의 첫번째 요일은 월요일이었다\n",
    "\t\tw = (w+ms[m])%7\n",
    "        \n",
    "\tif w==6:\n",
    "\t\tss+=1\n",
    "        \n",
    "\tm+=1  # 다음달 체크\n",
    "    \n",
    "\tif m>=12:\n",
    "\t\tm=0\n",
    "\t\ty+=1\n",
    "        \n",
    "print (ss)"
   ]
  }
 ],
 "metadata": {
  "kernelspec": {
   "display_name": "Python 3",
   "language": "python",
   "name": "python3"
  },
  "language_info": {
   "codemirror_mode": {
    "name": "ipython",
    "version": 3
   },
   "file_extension": ".py",
   "mimetype": "text/x-python",
   "name": "python",
   "nbconvert_exporter": "python",
   "pygments_lexer": "ipython3",
   "version": "3.5.2"
  }
 },
 "nbformat": 4,
 "nbformat_minor": 2
}
