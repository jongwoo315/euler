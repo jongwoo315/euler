{
 "cells": [
  {
   "cell_type": "markdown",
   "metadata": {},
   "source": [
    "Cubic permutations\n",
    "Problem 62\n",
    "\n",
    "The cube, 41063625 ($345^3$), can be permuted to produce two other cubes: 56623104 ($384^3$) and 66430125 ($405^3$). In fact, 41063625 is the smallest cube which has exactly three permutations of its digits which are also cube.\n",
    "\n",
    "Find the smallest cube for which exactly five permutations of its digits are cube"
   ]
  },
  {
   "cell_type": "code",
   "execution_count": 149,
   "metadata": {},
   "outputs": [],
   "source": [
    "lss = [np.sort(list(str(num**3))) for num in range(345, 406)]"
   ]
  },
  {
   "cell_type": "code",
   "execution_count": 139,
   "metadata": {},
   "outputs": [],
   "source": [
    "ls = []\n",
    "for num in range(345, 406):\n",
    "    ls.append(np.sort(list(str(num**3))))"
   ]
  },
  {
   "cell_type": "code",
   "execution_count": 141,
   "metadata": {},
   "outputs": [
    {
     "data": {
      "text/plain": [
       "list"
      ]
     },
     "execution_count": 141,
     "metadata": {},
     "output_type": "execute_result"
    }
   ],
   "source": [
    "type(ls)"
   ]
  },
  {
   "cell_type": "code",
   "execution_count": 151,
   "metadata": {},
   "outputs": [
    {
     "name": "stdout",
     "output_type": "stream",
     "text": [
      "38 equal\n",
      "59 equal\n"
     ]
    }
   ],
   "source": [
    "for a in range(60):\n",
    "    if ls[0].tolist()==ls[a+1].tolist():\n",
    "        print (a, 'equal')"
   ]
  },
  {
   "cell_type": "code",
   "execution_count": 147,
   "metadata": {},
   "outputs": [
    {
     "data": {
      "text/plain": [
       "True"
      ]
     },
     "execution_count": 147,
     "metadata": {},
     "output_type": "execute_result"
    }
   ],
   "source": [
    "ls[0].tolist() == ls[60].tolist()"
   ]
  },
  {
   "cell_type": "code",
   "execution_count": 164,
   "metadata": {},
   "outputs": [
    {
     "data": {
      "text/plain": [
       "'a.b.c'"
      ]
     },
     "execution_count": 164,
     "metadata": {},
     "output_type": "execute_result"
    }
   ],
   "source": [
    "\".\".join((\"a\",\"b\",\"c\"))"
   ]
  },
  {
   "cell_type": "code",
   "execution_count": 170,
   "metadata": {},
   "outputs": [
    {
     "data": {
      "text/plain": [
       "'4,1,0,6,2,1,3'"
      ]
     },
     "execution_count": 170,
     "metadata": {},
     "output_type": "execute_result"
    }
   ],
   "source": [
    "','.join(str(4106213))"
   ]
  },
  {
   "cell_type": "code",
   "execution_count": 165,
   "metadata": {},
   "outputs": [
    {
     "data": {
      "text/plain": [
       "'a.b.c'"
      ]
     },
     "execution_count": 165,
     "metadata": {},
     "output_type": "execute_result"
    }
   ],
   "source": [
    "str.join('.', ('a', 'b', 'c'))"
   ]
  },
  {
   "cell_type": "code",
   "execution_count": 108,
   "metadata": {},
   "outputs": [
    {
     "data": {
      "text/plain": [
       "'4106213'"
      ]
     },
     "execution_count": 108,
     "metadata": {},
     "output_type": "execute_result"
    }
   ],
   "source": [
    "str(4106213)"
   ]
  },
  {
   "cell_type": "code",
   "execution_count": 38,
   "metadata": {},
   "outputs": [],
   "source": [
    "345**3\n",
    "a='41063625'\n",
    "b='56623104'\n",
    "c='66430125'"
   ]
  },
  {
   "cell_type": "code",
   "execution_count": 93,
   "metadata": {},
   "outputs": [
    {
     "data": {
      "text/plain": [
       "384.00000000000006"
      ]
     },
     "execution_count": 93,
     "metadata": {},
     "output_type": "execute_result"
    }
   ],
   "source": [
    "np.cbrt(56623104)"
   ]
  },
  {
   "cell_type": "markdown",
   "metadata": {},
   "source": [
    "### ============================================================"
   ]
  },
  {
   "cell_type": "code",
   "execution_count": 234,
   "metadata": {},
   "outputs": [
    {
     "data": {
      "text/plain": [
       "'1133667'"
      ]
     },
     "execution_count": 234,
     "metadata": {},
     "output_type": "execute_result"
    }
   ],
   "source": [
    "ls = [a**3 for a in range(111, 114)]\n",
    "# introducing python p50\n",
    "''.join(sorted(str(ls[0])))"
   ]
  },
  {
   "cell_type": "code",
   "execution_count": 245,
   "metadata": {},
   "outputs": [
    {
     "data": {
      "text/plain": [
       "'1367631'"
      ]
     },
     "execution_count": 245,
     "metadata": {},
     "output_type": "execute_result"
    }
   ],
   "source": [
    "str(ls[0])"
   ]
  },
  {
   "cell_type": "code",
   "execution_count": 246,
   "metadata": {},
   "outputs": [],
   "source": [
    "# introducing python p115\n",
    "from collections import defaultdict"
   ]
  },
  {
   "cell_type": "code",
   "execution_count": 271,
   "metadata": {},
   "outputs": [
    {
     "data": {
      "text/plain": [
       "defaultdict(list, {'a': ['ffgf', 'dgd'], 'b': ['qqqq']})"
      ]
     },
     "execution_count": 271,
     "metadata": {},
     "output_type": "execute_result"
    }
   ],
   "source": [
    "dd = defaultdict(list)\n",
    "\n",
    "dd['a'].append('ffgf')\n",
    "dd['a'].append('dgd')\n",
    "\n",
    "dd['b'].append('qqqq')\n",
    "\n",
    "dd"
   ]
  },
  {
   "cell_type": "code",
   "execution_count": 286,
   "metadata": {},
   "outputs": [
    {
     "name": "stdout",
     "output_type": "stream",
     "text": [
      "1\n",
      "2\n"
     ]
    }
   ],
   "source": [
    "for a, b in dd.items():\n",
    "    print (len(b))"
   ]
  },
  {
   "cell_type": "code",
   "execution_count": 264,
   "metadata": {},
   "outputs": [
    {
     "data": {
      "text/plain": [
       "{'3': 6, 'a': 1, 'b': 2}"
      ]
     },
     "execution_count": 264,
     "metadata": {},
     "output_type": "execute_result"
    }
   ],
   "source": [
    "da = dict({'a':1, 'b':2})\n",
    "da['3'] = 4\n",
    "da['3'] = 6\n",
    "da"
   ]
  },
  {
   "cell_type": "markdown",
   "metadata": {},
   "source": [
    "### ============================================================"
   ]
  },
  {
   "cell_type": "markdown",
   "metadata": {},
   "source": [
    "#### 힌트  \n",
    "\n",
    "- key, value를 활용\n",
    "- 다만, 하나의 key에 여러 value가 들어갈 수 있는 collections.defaultdict가 필요"
   ]
  },
  {
   "cell_type": "code",
   "execution_count": 280,
   "metadata": {},
   "outputs": [],
   "source": [
    "from itertools import count\n",
    "from collections import defaultdict"
   ]
  },
  {
   "cell_type": "code",
   "execution_count": 365,
   "metadata": {},
   "outputs": [
    {
     "data": {
      "text/plain": [
       "['127035954683', '140283769536']"
      ]
     },
     "execution_count": 365,
     "metadata": {},
     "output_type": "execute_result"
    }
   ],
   "source": [
    "box = defaultdict(list)\n",
    "for a in range(10000):\n",
    "    box[''.join(sorted(str(a**3)))].append(str(a**3))\n",
    "\n",
    "\n",
    "min([min(b) for a, b in box.items() if len(b) == 5])"
   ]
  },
  {
   "cell_type": "code",
   "execution_count": 367,
   "metadata": {},
   "outputs": [
    {
     "data": {
      "text/plain": [
       "'127035954683'"
      ]
     },
     "execution_count": 367,
     "metadata": {},
     "output_type": "execute_result"
    }
   ],
   "source": [
    "min([min(b) for a, b in box.items() if len(b) == 5])"
   ]
  },
  {
   "cell_type": "markdown",
   "metadata": {},
   "source": [
    "### ============================================================"
   ]
  },
  {
   "cell_type": "code",
   "execution_count": 76,
   "metadata": {},
   "outputs": [],
   "source": [
    "from time import clock\n",
    "from itertools import count\n",
    "import itertools, collections\n",
    "from collections import defaultdict"
   ]
  },
  {
   "cell_type": "code",
   "execution_count": 485,
   "metadata": {},
   "outputs": [
    {
     "name": "stdout",
     "output_type": "stream",
     "text": [
      "127035954683\n",
      "0.08021200000001727\n"
     ]
    }
   ],
   "source": [
    "t1=clock()\n",
    "def bbb():\n",
    "    D = {}\n",
    "    for x in count(1):\n",
    "        XXX = x **3\n",
    "        t_XXX= tuple(sorted(str(XXX)))\n",
    "\n",
    "        # 기존에 없었다면 키를 t_XXX로 정하고, 거기에 x를 value로 정한다\n",
    "        # 기존에 존재하던 키라면 x만 value로 거기에 붙인다\n",
    "        D.setdefault(t_XXX, []).append(x)\n",
    "        if len(D[t_XXX]) == 5 :\n",
    "            break\n",
    "\n",
    "    return(sorted(D[t_XXX])[0] **3)\n",
    "\n",
    "print(bbb())\n",
    "t2=clock()\n",
    "print(t2-t1)"
   ]
  },
  {
   "cell_type": "code",
   "execution_count": 77,
   "metadata": {},
   "outputs": [
    {
     "name": "stdout",
     "output_type": "stream",
     "text": [
      "127035954683\n",
      "4.612542999999995\n"
     ]
    }
   ],
   "source": [
    "t1=clock()\n",
    "def aaaa(permute):\n",
    "    box = defaultdict(list)\n",
    "    for a in count(1):\n",
    "        box[''.join(sorted(str(a**3)))].append(str(a**3))\n",
    "        \n",
    "        for a in box.values():\n",
    "            if len(a) == permute:\n",
    "                return (min(a))\n",
    "\n",
    "print(aaaa(5))\n",
    "t2=clock()\n",
    "print(t2-t1)"
   ]
  },
  {
   "cell_type": "code",
   "execution_count": 642,
   "metadata": {},
   "outputs": [
    {
     "name": "stdout",
     "output_type": "stream",
     "text": [
      "{'aaa': [123]}\n",
      "{'aaa': [123, 444]}\n",
      "{'aaa': [123, 444], 'bbb': [5555]}\n"
     ]
    }
   ],
   "source": [
    "a = {}\n",
    "a['aaa'] = [123]\n",
    "print(a)\n",
    "\n",
    "a['aaa'].append(444)\n",
    "print(a)\n",
    "\n",
    "a['bbb'] = [5555]\n",
    "\n",
    "print(a)"
   ]
  },
  {
   "cell_type": "code",
   "execution_count": 87,
   "metadata": {},
   "outputs": [
    {
     "name": "stdout",
     "output_type": "stream",
     "text": [
      "127035954683\n",
      "0.058016000000002066\n"
     ]
    }
   ],
   "source": [
    "t1 = clock()\n",
    "def try2(permutation):\n",
    "    dic = {}\n",
    "    for num in count(1):\n",
    "        num_to_string = ''.join(sorted(str(num**3)))\n",
    "        if num_to_string in dic:\n",
    "            dic[num_to_string].append(num**3)\n",
    "            if len(dic[num_to_string]) == permutation:\n",
    "                return min(dic[num_to_string])\n",
    "        else:\n",
    "            dic[num_to_string] = [num**3]\n",
    "            \n",
    "print (try2(5))\n",
    "t2 = clock()\n",
    "print (t2 - t1)"
   ]
  },
  {
   "cell_type": "code",
   "execution_count": 33,
   "metadata": {},
   "outputs": [
    {
     "name": "stdout",
     "output_type": "stream",
     "text": [
      "127035954683\n",
      "0.07144199999999756\n"
     ]
    }
   ],
   "source": [
    "t1=clock()\n",
    "def problem62():\n",
    "    # In this dictionary, keys are sorted strings of digits and values are\n",
    "    # lists of numbers whose cubes contain those digits in some order.\n",
    "    \n",
    "    cubes = collections.defaultdict(list)\n",
    "    for i in itertools.count(1):\n",
    "        c = cubes[''.join(sorted(str(i ** 3)))]\n",
    "        \n",
    "        c.append(i)\n",
    "        if len(c) == 5:\n",
    "            return min(c)**3\n",
    "\n",
    "print(problem62())\n",
    "t2=clock()\n",
    "print(t2-t1)"
   ]
  },
  {
   "cell_type": "code",
   "execution_count": 644,
   "metadata": {},
   "outputs": [
    {
     "name": "stdout",
     "output_type": "stream",
     "text": [
      "127035954683\n",
      "None\n",
      "0.06879799999995839\n"
     ]
    }
   ],
   "source": [
    "t1=clock()\n",
    "def solve():\n",
    "    d = dict()\n",
    "    for i in itertools.count():\n",
    "        cube = i*i*i\n",
    "        signature = \"\".join(sorted(str(cube)))\n",
    "        #print (d)\n",
    "        \n",
    "        if signature in d:\n",
    "            d[signature].append(cube)\n",
    "            if len(d[signature]) == 5:\n",
    "                print(d[signature][0])\n",
    "                return\n",
    "        else:\n",
    "            d[signature] = [cube]\n",
    "            \n",
    "print(solve())\n",
    "t2=clock()\n",
    "print(t2-t1)"
   ]
  },
  {
   "cell_type": "code",
   "execution_count": 622,
   "metadata": {},
   "outputs": [
    {
     "data": {
      "text/plain": [
       "[[140283769536, 536178930624, 613258407936, 913237656408, 936302451687],\n",
       " [127035954683, 352045367981, 373559126408, 569310543872, 589323567104]]"
      ]
     },
     "execution_count": 622,
     "metadata": {},
     "output_type": "execute_result"
    }
   ],
   "source": [
    "from math import ceil\n",
    "from collections import defaultdict\n",
    "\n",
    "def permuted_cubes(digits=10, times=3):\n",
    "    group = defaultdict(list)\n",
    "    for n in range(10, ceil(pow(10, digits/3))):\n",
    "        n3 = n**3\n",
    "        group[tuple(sorted(str(n3)))].append(n3)\n",
    "    for lst in group.values():\n",
    "        if len(lst) >= times:\n",
    "            yield lst\n",
    "\n",
    "list(permuted_cubes(12, times=5))"
   ]
  },
  {
   "cell_type": "code",
   "execution_count": 621,
   "metadata": {},
   "outputs": [
    {
     "data": {
      "text/plain": [
       "512"
      ]
     },
     "execution_count": 621,
     "metadata": {},
     "output_type": "execute_result"
    }
   ],
   "source": [
    "8**3"
   ]
  },
  {
   "cell_type": "markdown",
   "metadata": {},
   "source": [
    "### ============================================================"
   ]
  },
  {
   "cell_type": "code",
   "execution_count": 160,
   "metadata": {},
   "outputs": [],
   "source": [
    "def my_cube_perm(num_perms):\n",
    "    def as_str(x):\n",
    "        return ''.join(sorted(str(x)))\n",
    "\n",
    "    counts = collections.defaultdict(int)\n",
    "    smallest = {}\n",
    "    digits = 0\n",
    "\n",
    "    for i in itertools.count(start=1):\n",
    "        cube = i**3\n",
    "        cube_str = as_str(cube)\n",
    "\n",
    "        if len(cube_str) > digits:\n",
    "            digits = len(cube_str)\n",
    "            solutions = [key for key, value in counts.items() if value == num_perms]\n",
    "            if solutions:\n",
    "                return min(smallest[key] for key in solutions)\n",
    "            #reset\n",
    "            counts = collections.defaultdict(int)\n",
    "            smallest = {}\n",
    "\n",
    "        counts[cube_str] += 1\n",
    "        smallest.setdefault(cube_str, cube)"
   ]
  },
  {
   "cell_type": "code",
   "execution_count": 616,
   "metadata": {},
   "outputs": [
    {
     "data": {
      "text/plain": [
       "127035954683"
      ]
     },
     "execution_count": 616,
     "metadata": {},
     "output_type": "execute_result"
    }
   ],
   "source": [
    "my_cube_perm(5)"
   ]
  },
  {
   "cell_type": "code",
   "execution_count": 198,
   "metadata": {},
   "outputs": [
    {
     "data": {
      "text/plain": [
       "0"
      ]
     },
     "execution_count": 198,
     "metadata": {},
     "output_type": "execute_result"
    }
   ],
   "source": [
    "periodic_table = defaultdict(int)\n",
    "periodic_table['hydrogen'] = 1\n",
    "periodic_table['lead']"
   ]
  },
  {
   "cell_type": "code",
   "execution_count": 199,
   "metadata": {},
   "outputs": [
    {
     "data": {
      "text/plain": [
       "defaultdict(int, {'hydrogen': 1, 'lead': 0})"
      ]
     },
     "execution_count": 199,
     "metadata": {},
     "output_type": "execute_result"
    }
   ],
   "source": [
    "periodic_table"
   ]
  },
  {
   "cell_type": "code",
   "execution_count": 219,
   "metadata": {},
   "outputs": [
    {
     "name": "stdout",
     "output_type": "stream",
     "text": [
      "abominable snowman\n",
      "basilisk\n",
      "huh?\n"
     ]
    }
   ],
   "source": [
    "def no_idea():\n",
    "    return 'huh?'\n",
    "\n",
    "bestiary = defaultdict(no_idea)\n",
    "bestiary['a'] = 'abominable snowman'\n",
    "bestiary['b'] = 'basilisk'\n",
    "\n",
    "print (bestiary['a'])\n",
    "print (bestiary['b'])\n",
    "print (bestiary['c'])"
   ]
  },
  {
   "cell_type": "code",
   "execution_count": 223,
   "metadata": {},
   "outputs": [
    {
     "data": {
      "text/plain": [
       "defaultdict(<function __main__.no_idea>,\n",
       "            {'a': 'abominable snowman', 'b': 'basilisk', 'c': 'huh?'})"
      ]
     },
     "execution_count": 223,
     "metadata": {},
     "output_type": "execute_result"
    }
   ],
   "source": [
    "bestiary"
   ]
  },
  {
   "cell_type": "code",
   "execution_count": 221,
   "metadata": {},
   "outputs": [
    {
     "data": {
      "text/plain": [
       "'huh?'"
      ]
     },
     "execution_count": 221,
     "metadata": {},
     "output_type": "execute_result"
    }
   ],
   "source": [
    "bestiary2 = defaultdict(lambda: 'huh?')\n",
    "bestiary2['e']"
   ]
  },
  {
   "cell_type": "code",
   "execution_count": 222,
   "metadata": {},
   "outputs": [
    {
     "data": {
      "text/plain": [
       "defaultdict(<function __main__.<lambda>>, {'e': 'huh?'})"
      ]
     },
     "execution_count": 222,
     "metadata": {},
     "output_type": "execute_result"
    }
   ],
   "source": [
    "bestiary2"
   ]
  },
  {
   "cell_type": "code",
   "execution_count": 212,
   "metadata": {},
   "outputs": [
    {
     "name": "stdout",
     "output_type": "stream",
     "text": [
      "spam 3\n",
      "eggs 1\n"
     ]
    }
   ],
   "source": [
    "food_counter = defaultdict(int)\n",
    "for food in ['spam', 'spam', 'eggs', 'spam']:\n",
    "    food_counter[food] += 1\n",
    "    \n",
    "for a, b in food_counter.items():\n",
    "    print (a, b)"
   ]
  },
  {
   "cell_type": "code",
   "execution_count": 213,
   "metadata": {},
   "outputs": [
    {
     "data": {
      "text/plain": [
       "defaultdict(int, {'eggs': 1, 'spam': 3})"
      ]
     },
     "execution_count": 213,
     "metadata": {},
     "output_type": "execute_result"
    }
   ],
   "source": [
    "food_counter"
   ]
  },
  {
   "cell_type": "code",
   "execution_count": 225,
   "metadata": {},
   "outputs": [
    {
     "data": {
      "text/plain": [
       "{'eggs': 1, 'spam': 3}"
      ]
     },
     "execution_count": 225,
     "metadata": {},
     "output_type": "execute_result"
    }
   ],
   "source": [
    "dict_counter = {}\n",
    "\n",
    "for food in ['spam', 'spam', 'eggs', 'spam']:\n",
    "    if food not in dict_counter:\n",
    "        dict_counter[food] = 0\n",
    "    dict_counter[food] += 1\n",
    "    \n",
    "dict_counter"
   ]
  }
 ],
 "metadata": {
  "kernelspec": {
   "display_name": "Python 3",
   "language": "python",
   "name": "python3"
  },
  "language_info": {
   "codemirror_mode": {
    "name": "ipython",
    "version": 3
   },
   "file_extension": ".py",
   "mimetype": "text/x-python",
   "name": "python",
   "nbconvert_exporter": "python",
   "pygments_lexer": "ipython3",
   "version": "3.5.2"
  }
 },
 "nbformat": 4,
 "nbformat_minor": 2
}
