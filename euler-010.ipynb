{
 "cells": [
  {
   "cell_type": "markdown",
   "metadata": {},
   "source": [
    "Summation of primes  \n",
    "Problem 10   \n",
    "\n",
    "The sum of the primes below 10 is 2 + 3 + 5 + 7 = 17.  \n",
    "  \n",
    "Find the sum of all the primes below two million."
   ]
  },
  {
   "cell_type": "code",
   "execution_count": 55,
   "metadata": {},
   "outputs": [],
   "source": [
    "from time import clock"
   ]
  },
  {
   "cell_type": "code",
   "execution_count": null,
   "metadata": {},
   "outputs": [
    {
     "name": "stdout",
     "output_type": "stream",
     "text": [
      "142913828922\n",
      "61.46400399999999\n"
     ]
    }
   ],
   "source": [
    "t1 = clock()\n",
    "def isprime(n):\n",
    "    #if n == 1: return False\n",
    "    #elif n == 2: return True\n",
    "    #elif n%2 == 0: return False\n",
    "    \n",
    "    a = 3\n",
    "    while a < n**0.5+1:\n",
    "        if n%a == 0: return False\n",
    "        a += 2\n",
    "    return True\n",
    "\n",
    "def euler10(m):\n",
    "    tot = 2; n = 3\n",
    "    while n < m:\n",
    "        if isprime(n): tot += n\n",
    "        else: pass\n",
    "        n += 2\n",
    "    print (tot)\n",
    "    return\n",
    "\n",
    "euler10(2000000)\n",
    "t2 = clock()\n",
    "print (t2 - t1)"
   ]
  },
  {
   "cell_type": "code",
   "execution_count": 16,
   "metadata": {},
   "outputs": [],
   "source": [
    "def isprime(n):\n",
    "    if n == 1: return False\n",
    "    elif n == 2: return True\n",
    "    elif n%2 == 0: return False\n",
    "    \n",
    "    a = 3\n",
    "    while a < n**0.5+1:\n",
    "        if n%a == 0: return False\n",
    "        a += 2\n",
    "    return True"
   ]
  },
  {
   "cell_type": "code",
   "execution_count": 18,
   "metadata": {},
   "outputs": [
    {
     "data": {
      "text/plain": [
       "True"
      ]
     },
     "execution_count": 18,
     "metadata": {},
     "output_type": "execute_result"
    }
   ],
   "source": [
    "isprime(2)"
   ]
  },
  {
   "cell_type": "code",
   "execution_count": 47,
   "metadata": {},
   "outputs": [],
   "source": [
    "import math"
   ]
  },
  {
   "cell_type": "code",
   "execution_count": 58,
   "metadata": {},
   "outputs": [
    {
     "name": "stdout",
     "output_type": "stream",
     "text": [
      "142913828922\n",
      "39.248857999999984\n"
     ]
    }
   ],
   "source": [
    "t1 = clock()\n",
    "sum = 2\n",
    "for num in range(3,2000000,2): # 어차피 짝수(2를 제외한)는 소수가 될 수 없으므로 홀수만 검사\n",
    "    if all(num%i!=0 for i in range(2,int(math.sqrt(num))+1)):\n",
    "        sum += num\n",
    "print(sum)\n",
    "\n",
    "t2 = clock()\n",
    "print (t2 - t1)"
   ]
  }
 ],
 "metadata": {
  "kernelspec": {
   "display_name": "Python 3",
   "language": "python",
   "name": "python3"
  },
  "language_info": {
   "codemirror_mode": {
    "name": "ipython",
    "version": 3
   },
   "file_extension": ".py",
   "mimetype": "text/x-python",
   "name": "python",
   "nbconvert_exporter": "python",
   "pygments_lexer": "ipython3",
   "version": "3.5.2"
  }
 },
 "nbformat": 4,
 "nbformat_minor": 2
}
