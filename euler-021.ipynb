{
 "cells": [
  {
   "cell_type": "markdown",
   "metadata": {},
   "source": [
    "**Amicable numbers**  \n",
    "*Problem 21*  \n",
    "\n",
    "Let d(n) be defined as the sum of proper divisors of n (numbers less than n which divide evenly into n).  \n",
    "If d(a) = b and d(b) = a, where a ≠ b, then a and b are an amicable pair and each of a and b are called amicable numbers.  \n",
    "\n",
    "For example, the proper divisors of 220 are 1, 2, 4, 5, 10, 11, 20, 22, 44, 55 and 110; therefore d(220) = 284. The proper divisors of 284 are 1, 2, 4, 71 and 142; so d(284) = 220.  \n",
    "\n",
    "Evaluate the sum of all the amicable numbers under 10000.  "
   ]
  },
  {
   "cell_type": "code",
   "execution_count": 15,
   "metadata": {},
   "outputs": [
    {
     "data": {
      "text/plain": [
       "284"
      ]
     },
     "execution_count": 15,
     "metadata": {},
     "output_type": "execute_result"
    }
   ],
   "source": [
    "def divisors(n):\n",
    "    DivList = [1]\n",
    "    RootSquare = n**.5\n",
    "    for x in range(2, int(RootSquare)+1):\n",
    "        if n%x == 0: \n",
    "            DivList.append(x)\n",
    "            if n/x != x: DivList.append(int(n/x))\n",
    "    \n",
    "    return sum(DivList[x] for x in range(len(DivList)))\n",
    "\n",
    "divisors(220)"
   ]
  },
  {
   "cell_type": "code",
   "execution_count": 82,
   "metadata": {},
   "outputs": [],
   "source": [
    "import time"
   ]
  },
  {
   "cell_type": "code",
   "execution_count": null,
   "metadata": {},
   "outputs": [],
   "source": [
    "def sumnums():\n",
    "    ls = []\n",
    "    for x in range(1, 10000):\n",
    "        ls.append((x, divisors(x)))\n",
    "        \n",
    "    SumOfAmicables = 0\n",
    "    for x in ls:\n",
    "        if x[0] != x[1] and any([x==y[::-1] for y in ls]):\n",
    "            SumOfAmicables += x[0]\n",
    "    return SumOfAmicables"
   ]
  },
  {
   "cell_type": "markdown",
   "metadata": {},
   "source": [
    "#### 딕셔너리 사용"
   ]
  },
  {
   "cell_type": "code",
   "execution_count": 94,
   "metadata": {},
   "outputs": [
    {
     "name": "stdout",
     "output_type": "stream",
     "text": [
      "31626\n",
      "0.17257500000005166\n"
     ]
    }
   ],
   "source": [
    "t1 = time.clock()\n",
    "def sumnums2():\n",
    "    dic = {}\n",
    "    for x in range(1, 10000):\n",
    "        dic[x] = divisors(x)    \n",
    "\n",
    "    SumOfAmicables = 0\n",
    "    for k, v in dic.items():\n",
    "        if k != v and dic.get(v) == k:\n",
    "            SumOfAmicables += k\n",
    "    return SumOfAmicables\n",
    "\n",
    "print (sumnums2())\n",
    "t2 = time.clock()\n",
    "print (t2 - t1)"
   ]
  },
  {
   "cell_type": "code",
   "execution_count": 21,
   "metadata": {},
   "outputs": [],
   "source": [
    "# 딕셔너리 사용\n",
    "dic = {}\n",
    "for x in range(1, 10000):\n",
    "    dic[x] = divisors(x)"
   ]
  },
  {
   "cell_type": "code",
   "execution_count": 91,
   "metadata": {},
   "outputs": [
    {
     "data": {
      "text/plain": [
       "31626"
      ]
     },
     "execution_count": 91,
     "metadata": {},
     "output_type": "execute_result"
    }
   ],
   "source": [
    "# .get()\n",
    "SumOfAmicables = 0\n",
    "for k, v in dic.items():\n",
    "    if k != v and dic.get(v) == k:\n",
    "        SumOfAmicables += k\n",
    "        \n",
    "SumOfAmicables"
   ]
  },
  {
   "cell_type": "code",
   "execution_count": 85,
   "metadata": {},
   "outputs": [
    {
     "name": "stdout",
     "output_type": "stream",
     "text": [
      "220\n",
      "284\n",
      "1184\n",
      "1210\n",
      "2620\n",
      "2924\n",
      "5020\n",
      "5564\n",
      "6232\n",
      "6368\n",
      "32.754276000000004\n"
     ]
    }
   ],
   "source": [
    "t1 = time.clock()\n",
    "SumOfAmicables =  0\n",
    "for k1, v1 in dic.items():\n",
    "    for k2, v2 in dic.items():\n",
    "        if k1 != v1 and k1 != 1 and k2 != 1:\n",
    "            if k1 == v2 and k2 == v1:\n",
    "                SumOfAmicables += k1\n",
    "print (SumOfAmicables)\n",
    "t2 = time.clock()\n",
    "print (t2 - t1)"
   ]
  }
 ],
 "metadata": {
  "kernelspec": {
   "display_name": "Python 3",
   "language": "python",
   "name": "python3"
  },
  "language_info": {
   "codemirror_mode": {
    "name": "ipython",
    "version": 3
   },
   "file_extension": ".py",
   "mimetype": "text/x-python",
   "name": "python",
   "nbconvert_exporter": "python",
   "pygments_lexer": "ipython3",
   "version": "3.5.2"
  }
 },
 "nbformat": 4,
 "nbformat_minor": 2
}
