{
 "cells": [
  {
   "cell_type": "code",
   "execution_count": 8,
   "metadata": {},
   "outputs": [
    {
     "data": {
      "text/plain": [
       "16384"
      ]
     },
     "execution_count": 8,
     "metadata": {},
     "output_type": "execute_result"
    }
   ],
   "source": [
    "# 15줄일 때, 선택할 수 있는 가지 수\n",
    "2**(15-1)"
   ]
  },
  {
   "cell_type": "code",
   "execution_count": 171,
   "metadata": {},
   "outputs": [],
   "source": [
    "#d = collections.OrderedDict()\n",
    "# {} 안에 {}를 넣으면 indexing이 안 된다. tuple이나 list를 써야한다\n",
    "d = {1: (75), 2:(95,64), 3:(17,47,82), 4:(18,35,87,10), 5:(20,4,82,47,65), 6:(19,1,23,75,3,34), 7:(88,2,77,73,7,63,67), 8:(99,65,4,28,6,16,70,92), 9:(41,41,26,56,83,40,80,70,33), 10:(41,48,72,33,47,32,37,16,94,29), 11:(53,71,44,65,25,43,91,52,97,51,14), 12:(70,11,33,28,77,73,17,78,39,68,17,57), 13:(91,71,52,38,17,14,91,43,58,50,27,29,48), 14:(63,66,4,68,89,53,67,30,73,16,69,87,40,31), 15:(4,62,98,27,23,9,70,98,73,93,38,53,60,4,23)}"
   ]
  },
  {
   "cell_type": "code",
   "execution_count": 137,
   "metadata": {},
   "outputs": [
    {
     "name": "stdout",
     "output_type": "stream",
     "text": [
      "1 75\n",
      "2 (95, 64)\n",
      "3 (17, 47, 82)\n",
      "4 (18, 35, 87, 10)\n",
      "5 (20, 4, 82, 47, 65)\n",
      "6 (19, 1, 23, 75, 3, 34)\n",
      "7 (88, 2, 77, 73, 7, 63, 67)\n",
      "8 (99, 65, 4, 28, 6, 16, 70, 92)\n",
      "9 (41, 41, 26, 56, 83, 40, 80, 70, 33)\n",
      "10 (41, 48, 72, 33, 47, 32, 37, 16, 94, 29)\n",
      "11 (53, 71, 44, 65, 25, 43, 91, 52, 97, 51, 14)\n",
      "12 (70, 11, 33, 28, 77, 73, 17, 78, 39, 68, 17, 57)\n",
      "13 (91, 71, 52, 38, 17, 14, 91, 43, 58, 50, 27, 29, 48)\n",
      "14 (63, 66, 4, 68, 89, 53, 67, 30, 73, 16, 69, 87, 40, 31)\n",
      "15 (4, 62, 98, 27, 23, 9, 70, 98, 73, 93, 38, 53, 60, 4, 23)\n"
     ]
    }
   ],
   "source": [
    "for k, v in d.items():\n",
    "    print (k, v)"
   ]
  },
  {
   "cell_type": "markdown",
   "metadata": {},
   "source": [
    "### 잘못된 결과 (각 행마다 최대값을 찾고, 그 위치와 위치+1에 해당하는 아래 행의 최대값을 찾는 방법은 잘못된 결과를 가져온다)\n"
   ]
  },
  {
   "cell_type": "code",
   "execution_count": 172,
   "metadata": {},
   "outputs": [
    {
     "data": {
      "text/plain": [
       "1064"
      ]
     },
     "execution_count": 172,
     "metadata": {},
     "output_type": "execute_result"
    }
   ],
   "source": [
    "max_ = max(d[2])\n",
    "index_of_max = 0  # 2행에서 선택된 큰 숫자는 0번째 숫자\n",
    "sum_max = d[1] + max(d[2])\n",
    "\n",
    "for x in range(2, 15):\n",
    "    for y in range(index_of_max, index_of_max+1):  # 선택된 큰 숫자의 다음행에서는 2개의 숫자 중 큰 것만 선택하면 됨\n",
    "        #print (max(d[x+1][y], d[x+1][y+1]))\n",
    "        sum_max += max(d[x+1][y], d[x+1][y+1])\n",
    "        \n",
    "        if d[x+1][y] > d[x+1][y+1]:\n",
    "            index_of_max = y\n",
    "        else: index_of_max = y+1\n",
    "        \n",
    "        \n",
    "sum_max"
   ]
  },
  {
   "cell_type": "markdown",
   "metadata": {},
   "source": [
    "### 처음부터 다시"
   ]
  },
  {
   "cell_type": "code",
   "execution_count": 521,
   "metadata": {},
   "outputs": [
    {
     "data": {
      "text/plain": [
       "[[75],\n",
       " [95, 64],\n",
       " [17, 47, 82],\n",
       " [18, 35, 87, 10],\n",
       " [20, 4, 82, 47, 65],\n",
       " [19, 1, 23, 75, 3, 34],\n",
       " [88, 2, 77, 73, 7, 63, 67],\n",
       " [99, 65, 4, 28, 6, 16, 70, 92],\n",
       " [41, 41, 26, 56, 83, 40, 80, 70, 33],\n",
       " [41, 48, 72, 33, 47, 32, 37, 16, 94, 29],\n",
       " [53, 71, 44, 65, 25, 43, 91, 52, 97, 51, 14],\n",
       " [70, 11, 33, 28, 77, 73, 17, 78, 39, 68, 17, 57],\n",
       " [91, 71, 52, 38, 17, 14, 91, 43, 58, 50, 27, 29, 48],\n",
       " [63, 66, 4, 68, 89, 53, 67, 30, 73, 16, 69, 87, 40, 31],\n",
       " [4, 62, 98, 27, 23, 9, 70, 98, 73, 93, 38, 53, 60, 4, 23]]"
      ]
     },
     "execution_count": 521,
     "metadata": {},
     "output_type": "execute_result"
    }
   ],
   "source": [
    "# https://stackoverflow.com/a/9857820/7090516\n",
    "f = open('euler-18.txt')\n",
    "ls = []\n",
    "pyramid = f.readlines()\n",
    "#pyra = [a.strip.split('\\n') for a in pyramid]\n",
    "for a in pyramid:\n",
    "    ls.append([int(x) for x in a.strip().split(' ')])\n",
    "    \n",
    "ls"
   ]
  },
  {
   "cell_type": "code",
   "execution_count": 522,
   "metadata": {},
   "outputs": [
    {
     "name": "stdout",
     "output_type": "stream",
     "text": [
      "1074\n"
     ]
    }
   ],
   "source": [
    "# 거꾸로 하는데, 14행에서 근접한 열2개를 비교해 큰 것을 13행에 붙이는 식으로 진행을 한다\n",
    "# len(ls) = 15\n",
    "\n",
    "for a in range(len(ls)-2,-1,-1):  # 행\n",
    "    for b in range(a+1):  # 행에서의 b번째 숫자\n",
    "        try: \n",
    "            max_choice_above = max(ls[a+1][b], ls[a+1][b+1])\n",
    "        except:\n",
    "            max_choice_above = ls[a+1][b] or ls[a+1][b+1]            \n",
    "        #print (max_choice_above)\n",
    "        #ls[len(ls)-1][b] += max_choice_above\n",
    "        ls[a][b] += max_choice_above\n",
    "\n",
    "print (ls[0][0])"
   ]
  },
  {
   "cell_type": "code",
   "execution_count": 523,
   "metadata": {},
   "outputs": [
    {
     "data": {
      "text/plain": [
       "[[1074],\n",
       " [995, 999],\n",
       " [818, 900, 935],\n",
       " [704, 801, 853, 792],\n",
       " [686, 640, 766, 731, 782],\n",
       " [666, 614, 636, 684, 660, 717],\n",
       " [647, 501, 613, 609, 533, 657, 683],\n",
       " [559, 499, 479, 536, 514, 526, 594, 616],\n",
       " [460, 434, 419, 475, 508, 470, 510, 524, 487],\n",
       " [419, 365, 393, 387, 419, 425, 430, 376, 454, 322],\n",
       " [378, 317, 231, 321, 354, 372, 393, 354, 360, 293, 247],\n",
       " [325, 246, 187, 178, 256, 329, 273, 302, 263, 242, 193, 233],\n",
       " [255, 235, 154, 150, 140, 179, 256, 209, 224, 172, 174, 176, 148],\n",
       " [125, 164, 102, 95, 112, 123, 165, 128, 166, 109, 122, 147, 100, 54],\n",
       " [4, 62, 98, 27, 23, 9, 70, 98, 73, 93, 38, 53, 60, 4, 23]]"
      ]
     },
     "execution_count": 523,
     "metadata": {},
     "output_type": "execute_result"
    }
   ],
   "source": [
    "ls"
   ]
  },
  {
   "cell_type": "markdown",
   "metadata": {},
   "source": [
    "### 다른 사람이 한 것"
   ]
  },
  {
   "cell_type": "code",
   "execution_count": null,
   "metadata": {},
   "outputs": [],
   "source": [
    "tri = [\n",
    "[75] ,\n",
    "[95, 64] ,\n",
    "[17, 47, 82] ,\n",
    "[18, 35, 87, 10] ,\n",
    "[20, 4, 82, 47, 65] ,\n",
    "[19, 1, 23, 75, 3, 34] ,\n",
    "[88, 2, 77, 73, 7, 63, 67] ,\n",
    "[99, 65, 4, 28, 6, 16, 70, 92] ,\n",
    "[41, 41, 26, 56, 83, 40, 80, 70, 33] ,\n",
    "[41, 48, 72, 33, 47, 32, 37, 16, 94, 29] ,\n",
    "[53, 71, 44, 65, 25, 43, 91, 52, 97, 51, 14] ,\n",
    "[70, 11, 33, 28, 77, 73, 17, 78, 39, 68, 17, 57] ,\n",
    "[91, 71, 52, 38, 17, 14, 91, 43, 58, 50, 27, 29, 48] ,\n",
    "[63, 66, 4, 68, 89, 53, 67, 30, 73, 16, 69, 87, 40, 31] ,\n",
    "[4, 62, 98, 27, 23, 9, 70, 98, 73, 93, 38, 53, 60, 4, 23]]\n",
    "\n",
    "for i in reversed(range(len(tri) - 1)):\n",
    "    for j in range(len(tri[i])):\n",
    "        tri[i][j] += max(tri[i+1][j], tri[i+1][j+1])\n",
    "        print (tri[i][j], i, j)\n",
    "    print ('\\n')\n",
    "\n",
    "print (tri[0][0])"
   ]
  }
 ],
 "metadata": {
  "kernelspec": {
   "display_name": "Python 3",
   "language": "python",
   "name": "python3"
  },
  "language_info": {
   "codemirror_mode": {
    "name": "ipython",
    "version": 3
   },
   "file_extension": ".py",
   "mimetype": "text/x-python",
   "name": "python",
   "nbconvert_exporter": "python",
   "pygments_lexer": "ipython3",
   "version": "3.5.2"
  }
 },
 "nbformat": 4,
 "nbformat_minor": 2
}
