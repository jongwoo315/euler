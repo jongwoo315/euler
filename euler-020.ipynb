{
 "cells": [
  {
   "cell_type": "markdown",
   "metadata": {},
   "source": [
    "**Factorial digit sum**  \n",
    "*Problem 20*  \n",
    "\n",
    "n! means n × (n − 1) × ... × 3 × 2 × 1  \n",
    "\n",
    "For example, 10! = 10 × 9 × ... × 3 × 2 × 1 = 3628800,  \n",
    "and the sum of the digits in the number 10! is 3 + 6 + 2 + 8 + 8 + 0 + 0 = 27.  \n",
    "\n",
    "Find the sum of the digits in the number 100!  "
   ]
  },
  {
   "cell_type": "code",
   "execution_count": 8,
   "metadata": {},
   "outputs": [
    {
     "data": {
      "text/plain": [
       "648"
      ]
     },
     "execution_count": 8,
     "metadata": {},
     "output_type": "execute_result"
    }
   ],
   "source": [
    "def euler20(n):\n",
    "    fac = 1\n",
    "    while n>0:\n",
    "        fac *= n\n",
    "        n -= 1\n",
    "    sum_digit = sum(int(a) for a in str(fac))\n",
    "    return sum_digit\n",
    "\n",
    "euler20(100)"
   ]
  }
 ],
 "metadata": {
  "kernelspec": {
   "display_name": "Python 3",
   "language": "python",
   "name": "python3"
  },
  "language_info": {
   "codemirror_mode": {
    "name": "ipython",
    "version": 3
   },
   "file_extension": ".py",
   "mimetype": "text/x-python",
   "name": "python",
   "nbconvert_exporter": "python",
   "pygments_lexer": "ipython3",
   "version": "3.5.2"
  }
 },
 "nbformat": 4,
 "nbformat_minor": 2
}
