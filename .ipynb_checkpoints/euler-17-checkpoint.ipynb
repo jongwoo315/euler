{
 "cells": [
  {
   "cell_type": "code",
   "execution_count": 40,
   "metadata": {},
   "outputs": [],
   "source": [
    "d = {0:0, 1:3, 2:3, 3:5, 4:4, 5:4, 6:3, 7:5, 8:5, 9:4, 10:3, 11:6, 12:6, 13:8, 14:8, 15:7, 16:7, 17:9, 18:8, 19:8, 20:6, 30:6, 40:5, 50:5, 60:5, 70:7, 80:6, 90:6, 100:7, 1000:11, 'and':3}"
   ]
  },
  {
   "cell_type": "code",
   "execution_count": 25,
   "metadata": {},
   "outputs": [
    {
     "ename": "SyntaxError",
     "evalue": "invalid syntax (<ipython-input-25-b7f1a79d2587>, line 1)",
     "output_type": "error",
     "traceback": [
      "\u001b[0;36m  File \u001b[0;32m\"<ipython-input-25-b7f1a79d2587>\"\u001b[0;36m, line \u001b[0;32m1\u001b[0m\n\u001b[0;31m    1~19\u001b[0m\n\u001b[0m     ^\u001b[0m\n\u001b[0;31mSyntaxError\u001b[0m\u001b[0;31m:\u001b[0m invalid syntax\n"
     ]
    }
   ],
   "source": [
    "1~19\n",
    "20~29\n",
    "30~39\n",
    "40~\n",
    "50~\n",
    "60~\n",
    "70~\n",
    "80~\n",
    "90~\n",
    "100~\n",
    "200~\n"
   ]
  },
  {
   "cell_type": "code",
   "execution_count": 57,
   "metadata": {},
   "outputs": [
    {
     "data": {
      "text/plain": [
       "21124"
      ]
     },
     "execution_count": 57,
     "metadata": {},
     "output_type": "execute_result"
    }
   ],
   "source": [
    "def euler17():\n",
    "    total_sum = 0\n",
    "    sum_under_100 = 0\n",
    "    over_100 = 0 \n",
    "    for a in range(1, 100):\n",
    "        if a < 20:\n",
    "            sum_under_100 += d[a]\n",
    "        elif 20 <= a < 30:\n",
    "            sum_under_100 += d[20] + d[a%20]\n",
    "        elif 30 <= a < 40:\n",
    "            sum_under_100 += d[30] + d[a%30]\n",
    "        elif 40 <= a < 50:\n",
    "            sum_under_100 += d[40] + d[a%40]\n",
    "        elif 50 <= a < 60:\n",
    "            sum_under_100 += d[50] + d[a%50]\n",
    "        elif 60 <= a < 70:\n",
    "            sum_under_100 += d[60] + d[a%60]\n",
    "        elif 70 <= a < 80:\n",
    "            sum_under_100 += d[70] + d[a%70]\n",
    "        elif 80 <= a < 90:\n",
    "            sum_under_100 += d[80] + d[a%80]\n",
    "        elif 90 <= a < 100:\n",
    "            sum_under_100 += d[90] + d[a%90]\n",
    "    total_sum = sum_under_100\n",
    "    \n",
    "    #100~999 # 100, 200, ... 에는 and가 안들어간다\n",
    "    for b in range(1, 10):\n",
    "        over_100 += 100*(d[b]+d[100]+d['and']) - d['and'] + sum_under_100\n",
    "    total_sum += over_100\n",
    "    \n",
    "    #1000\n",
    "    total_sum += d[1000]\n",
    "    \n",
    "    return total_sum\n",
    "\n",
    "euler17()"
   ]
  },
  {
   "cell_type": "code",
   "execution_count": 52,
   "metadata": {},
   "outputs": [],
   "source": [
    "b = 0\n",
    "for a in range(1, 10):\n",
    "    b += d[a]\n",
    " "
   ]
  },
  {
   "cell_type": "code",
   "execution_count": 53,
   "metadata": {},
   "outputs": [
    {
     "data": {
      "text/plain": [
       "36"
      ]
     },
     "execution_count": 53,
     "metadata": {},
     "output_type": "execute_result"
    }
   ],
   "source": [
    "b"
   ]
  }
 ],
 "metadata": {
  "kernelspec": {
   "display_name": "Python 3",
   "language": "python",
   "name": "python3"
  },
  "language_info": {
   "codemirror_mode": {
    "name": "ipython",
    "version": 3
   },
   "file_extension": ".py",
   "mimetype": "text/x-python",
   "name": "python",
   "nbconvert_exporter": "python",
   "pygments_lexer": "ipython3",
   "version": "3.5.2"
  }
 },
 "nbformat": 4,
 "nbformat_minor": 2
}
