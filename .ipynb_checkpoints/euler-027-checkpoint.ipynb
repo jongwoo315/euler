{
 "cells": [
  {
   "cell_type": "markdown",
   "metadata": {},
   "source": [
    "Quadratic primes  \n",
    "Problem 27  \n",
    "\n",
    "Euler discovered the remarkable quadratic formula:  \n",
    "\n",
    "$n^2+n+41$\n",
    "\n",
    "It turns out that the formula will produce 40 primes for the consecutive integer values 0$≤n≤39$. However, when $n=40,40^2+40+41=40(40+1)+41$ is divisible by 41, and certainly when $n=41,41^2+41+41$ is clearly divisible by 41.\n",
    "\n",
    "The incredible formula $n^2−79n+1601$ was discovered, which produces 80 primes for the consecutive values $0≤n≤79$. The product of the coefficients, −79 and 1601, is −126479.\n",
    "\n",
    "Considering quadratics of the form:\n",
    "\n",
    "$n^2+an+b$, where $|a|<1000$ and $|b|≤1000$\n",
    "\n",
    "where $|n|$ is the modulus/absolute value of $n$\n",
    "e.g. $|11|=11$ and $|−4|=4$  \n",
    "Find the product of the coefficients, $a$ and $b$, for the quadratic expression that produces the maximum number of primes for consecutive values of $n$, starting with $n=0$."
   ]
  },
  {
   "cell_type": "markdown",
   "metadata": {},
   "source": [
    "1. n(n+a) + b\n",
    "  - n(n+a) + b 는 항상 소수여야 한다\n",
    "  - 또한, n=0일 때에도 b는 소수여야 한다.\n",
    "  - b는 2~997사이의 소수\n",
    "2. 2를 제외한 소수는 모두 홀수\n",
    "  - b=2 -> 홀수 + 짝수 = 홀수 -> n(n+a) + 2 일 때 n(n+a)는 홀수\n",
    "  - b!=2 -> n(n+a) +  (2가 아닌 소수)일 때 n(n+a)는 짝수 -> 짝수 + 홀수 = 홀수\n",
    "3. n(n+a) (b가 2보다 클 때)\n",
    "  - b=2 -> n(n+a)는 홀수 -> AxB=홀수면, 홀수x홀수=홀수에 따라 A와 B는 모두 홀수 -> n=홀수, n+a=홀수, a=짝수\n",
    "  - b!=2(2가 아닌 소수는 모두 홀수) -> n(n+a)는 짝수 -> n=짝수, n+a는 짝수, a는 짝수 / n=짝수, n+a는 홀수, a는 홀수 / n=홀수, n+a는 짝수 a는 홀수\n",
    "4. 범위\n",
    "  - n^2 + an + b의 값이 중복이어도 상관없다. 연속으로 소수가 출력되기만 하면 됨\n",
    "  - 2 <= b <= 997 (b는 이 범위 사이의 소수)\n",
    "  - b=2: n=홀수, a=짝수\n",
    "  - b!=2: n=홀수, a=짝수\n",
    "  - b!=2: n=짝수, a=홀/짝\n",
    "5. ....\n",
    "  - n의 값은 0부터 시작 -> n=0, b=2인 경우는 항상 소수이므로 -> n=1, b=2인 경우부터 고려"
   ]
  },
  {
   "cell_type": "code",
   "execution_count": 109,
   "metadata": {},
   "outputs": [],
   "source": [
    "def isprime(n):\n",
    "    if n==2:\n",
    "        return True\n",
    "    if n%2==0: return False\n",
    "    if n%2!=0:\n",
    "        for x in range(3, int(n**0.5)+1):\n",
    "            if n%x==0: return False\n",
    "        return True\n",
    "    return False"
   ]
  },
  {
   "cell_type": "code",
   "execution_count": 1,
   "metadata": {},
   "outputs": [
    {
     "name": "stdout",
     "output_type": "stream",
     "text": [
      "-59231\n",
      "2.4335180000000003\n"
     ]
    }
   ],
   "source": [
    "# https://stackoverflow.com/a/26871933/7090516 ## dic get max\n",
    "def isprime(n):\n",
    "    if n==2:\n",
    "        return True\n",
    "    if n%2==0: return False\n",
    "    if n%2!=0:\n",
    "        for x in range(3, int(n**0.5)+1):\n",
    "            if n%x==0: return False\n",
    "        return True\n",
    "    return False\n",
    "\n",
    "def primeList():\n",
    "    Blist = tuple()\n",
    "    for x in range(2, 997+1):\n",
    "        if isprime(x): Blist += (x, )\n",
    "    return Blist\n",
    "\n",
    "def euler27(candidate={}):\n",
    "    # b=2일때 가능한 경우의 수는 한가지 밖에 없다. 2는 제외하고 생각 // n^2 + a*n + b\n",
    "    ls = primeList()\n",
    "    for b in ls:\n",
    "        for a in range(-b+2, 1000+1):  # n^2 + a*n + b의 값은 음수가 될 수 없다. b값에 맞춰 a값을 조정\n",
    "            for n in count(0):\n",
    "                if n**2 + a*n + b < 0: break\n",
    "                if isprime(n**2 + a*n + b): \n",
    "                    if (a, b) not in candidate: candidate[(a, b)] = 0\n",
    "                    candidate[(a, b)] += 1\n",
    "                else: break\n",
    "    return candidate\n",
    "                \n",
    "if __name__ == '__main__':\n",
    "    from itertools import count\n",
    "    import time\n",
    "    t1 = time.clock()\n",
    "    \n",
    "    maxDict = euler27()\n",
    "    longest = max(maxDict, key=maxDict.get)\n",
    "    #print (longest, maxDict[longest])\n",
    "    print (longest[0]*longest[1])\n",
    "    \n",
    "    t2 = time.clock()\n",
    "    print (t2 - t1)"
   ]
  }
 ],
 "metadata": {
  "kernelspec": {
   "display_name": "Python 3",
   "language": "python",
   "name": "python3"
  },
  "language_info": {
   "codemirror_mode": {
    "name": "ipython",
    "version": 3
   },
   "file_extension": ".py",
   "mimetype": "text/x-python",
   "name": "python",
   "nbconvert_exporter": "python",
   "pygments_lexer": "ipython3",
   "version": "3.5.2"
  }
 },
 "nbformat": 4,
 "nbformat_minor": 2
}
