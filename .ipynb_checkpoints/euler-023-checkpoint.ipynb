{
 "cells": [
  {
   "cell_type": "code",
   "execution_count": 1,
   "metadata": {},
   "outputs": [
    {
     "data": {
      "text/plain": [
       "[1, 2, 33, 3, 22, 6, 11]"
      ]
     },
     "execution_count": 1,
     "metadata": {},
     "output_type": "execute_result"
    }
   ],
   "source": [
    "# https://stackoverflow.com/a/16594936/7090516\n",
    "from itertools import chain\n",
    "def getDivisor(n):\n",
    "    ls = [1] + list(chain.from_iterable((x, int(n/x)) for x in range(2, int(n**0.5)+1) if n%x==0))\n",
    "    # 숫자를 지정할 때에는 remove, 리스트의 n번째 수를 지정할 때에는 pop\n",
    "    if any(x==n**0.5 for x in ls): ls.remove(int(n**0.5))\n",
    "    return ls\n",
    "\n",
    "getDivisor(66)"
   ]
  },
  {
   "cell_type": "code",
   "execution_count": 2,
   "metadata": {},
   "outputs": [
    {
     "data": {
      "text/plain": [
       "'Deficient'"
      ]
     },
     "execution_count": 2,
     "metadata": {},
     "output_type": "execute_result"
    }
   ],
   "source": [
    "def checkType(n):\n",
    "    if n!=1 and sum(x for x in getDivisor(n))==n:\n",
    "        return 'Perfect'\n",
    "    elif n==1 or sum(x for x in getDivisor(n)) < n: return 'Deficient'\n",
    "    return 'Abundant'\n",
    "\n",
    "checkType(5)"
   ]
  },
  {
   "cell_type": "code",
   "execution_count": 26,
   "metadata": {},
   "outputs": [
    {
     "name": "stdout",
     "output_type": "stream",
     "text": [
      "4 21153 6965\n"
     ]
    }
   ],
   "source": [
    "perfectCount = 0\n",
    "deficientCount = 0\n",
    "AbundantCount = 0\n",
    "\n",
    "for x in range(1, 28123):\n",
    "    if checkType(x) == 'Perfect': perfectCount += 1\n",
    "    elif checkType(x) == 'Deficient': deficientCount += 1\n",
    "    elif checkType(x) == 'Abundant': AbundantCount += 1\n",
    "\n",
    "print (perfectCount, deficientCount, AbundantCount)"
   ]
  },
  {
   "cell_type": "code",
   "execution_count": 62,
   "metadata": {},
   "outputs": [],
   "source": [
    "abn = []\n",
    "for x in range(1, int(28123)+1):\n",
    "    if checkType(x) == 'Abundant':\n",
    "        abn.append(x)"
   ]
  },
  {
   "cell_type": "code",
   "execution_count": 63,
   "metadata": {},
   "outputs": [],
   "source": [
    "abnSumList = set()\n",
    "for x in range(len(abn)):\n",
    "    for y in range(x, len(abn)):\n",
    "        if abn[x]+abn[y] > 28123: break\n",
    "        abnSumList.add(abn[x]+abn[y])"
   ]
  },
  {
   "cell_type": "code",
   "execution_count": 65,
   "metadata": {},
   "outputs": [
    {
     "data": {
      "text/plain": [
       "4179871"
      ]
     },
     "execution_count": 65,
     "metadata": {},
     "output_type": "execute_result"
    }
   ],
   "source": [
    "(28123*28124)//2 - sum(abnSumList)"
   ]
  },
  {
   "cell_type": "markdown",
   "metadata": {},
   "source": [
    "- 만약 리스트의 크기가 매우 크다면, 중복되는 수들을 if문에서 거르는 것보다 처음부터 set이나 dictionary를 사용하는 것이 속도면에서 훨씬 낫다"
   ]
  },
  {
   "cell_type": "code",
   "execution_count": 1,
   "metadata": {},
   "outputs": [],
   "source": [
    "def euler23():\n",
    "    import time\n",
    "    \n",
    "    # https://stackoverflow.com/a/16594936/7090516\n",
    "    from itertools import chain\n",
    "    def getDivisor(n):\n",
    "        ls = [1] + list(chain.from_iterable((x, int(n/x)) for x in range(2, int(n**0.5)+1) if n%x==0))\n",
    "        # 숫자를 지정할 때에는 remove, 리스트의 n번째 수를 지정할 때에는 pop\n",
    "        if any(x==n**0.5 for x in ls): ls.remove(int(n**0.5))\n",
    "        return ls\n",
    "\n",
    "    def checkType(n):\n",
    "        if n!=1 and sum(x for x in getDivisor(n))==n:\n",
    "            return 'Perfect'\n",
    "        elif n==1 or sum(x for x in getDivisor(n)) < n: return 'Deficient'\n",
    "        return 'Abundant'\n",
    "\n",
    "    if __name__ == '__main__':\n",
    "        t1 = time.clock()\n",
    "        abn = []\n",
    "        for x in range(1, int(28123)+1):\n",
    "            if checkType(x) == 'Abundant':\n",
    "                abn.append(x)\n",
    "\n",
    "        abnSumList = set()\n",
    "        for x in range(len(abn)):\n",
    "            for y in range(x, len(abn)):\n",
    "                if abn[x]+abn[y] > 28123: break\n",
    "                abnSumList.add(abn[x]+abn[y])\n",
    "\n",
    "        print ((28123*28124)//2 - sum(abnSumList))\n",
    "        t2 = time.clock()\n",
    "        print (t2 - t1)"
   ]
  },
  {
   "cell_type": "code",
   "execution_count": 2,
   "metadata": {},
   "outputs": [
    {
     "name": "stdout",
     "output_type": "stream",
     "text": [
      "4179871\n",
      "6.694306000000001\n"
     ]
    }
   ],
   "source": [
    "euler23()"
   ]
  },
  {
   "cell_type": "code",
   "execution_count": 13,
   "metadata": {},
   "outputs": [
    {
     "name": "stdout",
     "output_type": "stream",
     "text": [
      "4179871\n",
      "0.9404620000000001\n"
     ]
    }
   ],
   "source": [
    "# https://stackoverflow.com/a/7420645/7090516\n",
    "\n",
    "import time\n",
    "\n",
    "t1 = time.clock()\n",
    "from math import sqrt\n",
    "\n",
    "def d(n):\n",
    "    sum = 1\n",
    "    t = sqrt(n)\n",
    "    # only proper divisors; start from 2.\n",
    "    for i in range(2, int(t)+1):\n",
    "        if n % i == 0:\n",
    "            sum += i + n / i\n",
    "    # don't count the square root twice!\n",
    "    if t == int(t):\n",
    "        sum -= t\n",
    "    return sum\n",
    "\n",
    "limit = 20162\n",
    "sum = 0\n",
    "# it's a set, after all. sets are faster than lists for our needs.\n",
    "abn = set()\n",
    "for n in range(1, limit):\n",
    "    if d(n) > n:\n",
    "        abn.add(n)\n",
    "    # if the difference of the number we're examining and every number in the set\n",
    "    # is in the set, then the number is the sum of two abundant numbers.\n",
    "    # otherwise, we must add it to our sum in question.\n",
    "    # n-a의 모든 수가 abn목록에 포함되지 않았으면 n을 더한다 \n",
    "    # n-a(a는 초과수)의 어떤수가 abn목록에 포함되었다면 -> a는 초과수임을 알수 있다.\n",
    "    # abn의 어떤수 a + abn의 어떤수 a = 초과수 => n이 초과수라는 뜻\n",
    "    if not any( (n-a in abn) for a in abn ):  \n",
    "        sum += n\n",
    "print (sum)\n",
    "t2 = time.clock()\n",
    "print (t2 - t1)"
   ]
  }
 ],
 "metadata": {
  "kernelspec": {
   "display_name": "Python 3",
   "language": "python",
   "name": "python3"
  },
  "language_info": {
   "codemirror_mode": {
    "name": "ipython",
    "version": 3
   },
   "file_extension": ".py",
   "mimetype": "text/x-python",
   "name": "python",
   "nbconvert_exporter": "python",
   "pygments_lexer": "ipython3",
   "version": "3.5.2"
  }
 },
 "nbformat": 4,
 "nbformat_minor": 2
}
