{
 "cells": [
  {
   "cell_type": "markdown",
   "metadata": {},
   "source": [
    "Number spiral diagonals  \n",
    "Problem 28  \n",
    "\n",
    "Starting with the number 1 and moving to the right in a clockwise direction a 5 by 5 spiral is formed as follows:  \n",
    "\n",
    "21 22 23 24 25  \n",
    "20 07 08 09 10  \n",
    "19 06 01 02 11  \n",
    "18 05 04 03 12  \n",
    "17 16 15 14 13  \n",
    "\n",
    "It can be verified that the sum of the numbers on the diagonals is 101.  \n",
    "\n",
    "What is the sum of the numbers on the diagonals in a 1001 by 1001 spiral formed in the same way?  "
   ]
  },
  {
   "cell_type": "markdown",
   "metadata": {},
   "source": [
    "- 3x3 -> 전체 개수 9; 마지막 수 9\n",
    "- 5x5 -> 전체 개수 25; 마지막 수 25\n",
    "- 1000x1001 -> 전체개수 1,002,001; 마지막 수 1,002,001\n",
    "\n",
    "\n",
    "- 각 크기마다의 대각합\n",
    "  - 3x3 - 24\n",
    "  - 5x5 - 76\n",
    "  - 크기 사이의 차이 = x2 + 18\n",
    "\n",
    "\n",
    "- 등차수열 2*n + 1\n",
    "  - 3x3 - 1번째, 5x5 - 2번째, 7x7 - 3 .... 1001x1001 - 501000번째"
   ]
  },
  {
   "cell_type": "markdown",
   "metadata": {},
   "source": [
    "맨 처음: 1  \n",
    "3x3: 3 5 7 9 (+2 등차수열)  \n",
    "5x5: 13 17 21 25 (+4 등차수열)  \n",
    "7x7: 31 37 43 49 (+6 등차수열)  \n",
    "9x9: 57 65 73 81 (+8등차수열)  \n",
    "\n",
    "\n",
    "각 나선의 마지막 수와 그 다음 나선의 첫 수 사이의 차이: 해당 나선 등차+2"
   ]
  },
  {
   "cell_type": "code",
   "execution_count": 77,
   "metadata": {},
   "outputs": [
    {
     "name": "stdout",
     "output_type": "stream",
     "text": [
      "669171001\n",
      "0.002242999999999995\n"
     ]
    }
   ],
   "source": [
    "def euler28(sumSpiral=1, diagonalNum=3, count=0, x=1, upper=9):\n",
    "    while diagonalNum<=upper:\n",
    "        while count<=3:  # 각 나선의 꼭지점에 해당하는 숫자들을 합한다\n",
    "            sumSpiral += diagonalNum\n",
    "            diagonalNum += 2*x  # 안쪽 나선에서 하나씩 나올 때마다 등차가 증가한다. (2, 4, 6, ...)\n",
    "            count += 1\n",
    "            \n",
    "        count = 0  # 각 대각 꼭지들의 합을 구하기 위해 0으로 초기화\n",
    "        x += 1  # 나선의 밖으로 하나씩 나올 때마다 등차가 달라지기 때문에 사용\n",
    "        diagonalNum += 2  # 안쪽 while문을 돌고 마지막에 한 번 더 n이 증가되는데, 그 다음 나선의 등차를 맞추기 위해 2를 또 더한다\n",
    "    return sumSpiral\n",
    "\n",
    "if __name__ == '__main__':\n",
    "    import time\n",
    "    t1 = time.clock()\n",
    "    print (euler28(upper=1001*1001))\n",
    "    t2 = time.clock()\n",
    "    print (t2 - t1)"
   ]
  }
 ],
 "metadata": {
  "kernelspec": {
   "display_name": "Python 3",
   "language": "python",
   "name": "python3"
  },
  "language_info": {
   "codemirror_mode": {
    "name": "ipython",
    "version": 3
   },
   "file_extension": ".py",
   "mimetype": "text/x-python",
   "name": "python",
   "nbconvert_exporter": "python",
   "pygments_lexer": "ipython3",
   "version": "3.5.2"
  }
 },
 "nbformat": 4,
 "nbformat_minor": 2
}
