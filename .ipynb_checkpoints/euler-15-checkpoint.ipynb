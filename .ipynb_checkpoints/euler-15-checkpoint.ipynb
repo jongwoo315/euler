{
 "cells": [
  {
   "cell_type": "markdown",
   "metadata": {},
   "source": [
    "20x20 grid에서 움직일 때(좌측 상단에서 우측 하단으로 이동 시)  \n",
    "- 총 40칸을 이동해야 한다\n",
    "- 우측이동이든 하단이동이든 순서는 상관 없다 (조합)\n",
    "- 순서는 상관없지만 결과적으로는 우측으로 20칸, 하단으로 20칸을 이동해야함\n",
    "- $ {40}\\choose{20} $\n",
    "\n",
    "https://www.youtube.com/watch?v=M8BYckxI8_U  \n",
    "https://www.mathsisfun.com/definitions/numerator.html  \n",
    "http://kcms.tistory.com/entry/%EC%88%9C%EC%97%B4%EA%B3%BC-%EC%A1%B0%ED%95%A9-%EA%B8%B0%EB%B3%B8%EA%B0%9C%EB%85%90%EA%B3%BC-%EA%B3%84%EC%82%B0  "
   ]
  },
  {
   "cell_type": "code",
   "execution_count": 4,
   "metadata": {},
   "outputs": [
    {
     "data": {
      "text/plain": [
       "137846528820"
      ]
     },
     "execution_count": 4,
     "metadata": {},
     "output_type": "execute_result"
    }
   ],
   "source": [
    "numer = 1\n",
    "denom = 1\n",
    "for a in range(40, 20, -1):\n",
    "    numer *= a\n",
    "    \n",
    "for b in range(20, 0, -1):\n",
    "    denom *= b\n",
    "    \n",
    "int(numer / denom)"
   ]
  }
 ],
 "metadata": {
  "kernelspec": {
   "display_name": "Python 3",
   "language": "python",
   "name": "python3"
  },
  "language_info": {
   "codemirror_mode": {
    "name": "ipython",
    "version": 3
   },
   "file_extension": ".py",
   "mimetype": "text/x-python",
   "name": "python",
   "nbconvert_exporter": "python",
   "pygments_lexer": "ipython3",
   "version": "3.5.2"
  }
 },
 "nbformat": 4,
 "nbformat_minor": 2
}
