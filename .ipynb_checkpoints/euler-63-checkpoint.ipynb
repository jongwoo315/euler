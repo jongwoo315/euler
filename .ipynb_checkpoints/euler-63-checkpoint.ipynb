{
 "cells": [
  {
   "cell_type": "markdown",
   "metadata": {},
   "source": [
    "Powerful digit counts  \n",
    "Problem 63  \n",
    "\n",
    "The 5-digit number, 16807=$7^5$, is also a fifth power. Similarly, the 9-digit number, 134217728=$8^9$, is a ninth power.  \n",
    "How many n-digit positive integers exist which are also an nth power?"
   ]
  },
  {
   "cell_type": "markdown",
   "metadata": {},
   "source": [
    "n승한 숫자의 str으로 바꾸고, len으로 길이를 알아내 n과 길이가 같은 것만 출력하는 방법을 이용했습니다. 또한, $10^1$, $10^2$ 처럼 10부터는 n승을 하면 n=자리수가 맞지 않으므로 고려해야할 숫자는 1~9까지입니다."
   ]
  },
  {
   "cell_type": "code",
   "execution_count": 79,
   "metadata": {},
   "outputs": [
    {
     "data": {
      "text/plain": [
       "49"
      ]
     },
     "execution_count": 79,
     "metadata": {},
     "output_type": "execute_result"
    }
   ],
   "source": [
    "def pro63():\n",
    "    count = 0\n",
    "    for num in range(1, 10):\n",
    "        for n in range(1, 100):\n",
    "            if len(str(num**n)) == n:\n",
    "                count += 1\n",
    "            else: break\n",
    "    return count\n",
    "\n",
    "pro63()"
   ]
  },
  {
   "cell_type": "code",
   "execution_count": 68,
   "metadata": {},
   "outputs": [
    {
     "data": {
      "text/plain": [
       "49"
      ]
     },
     "execution_count": 68,
     "metadata": {},
     "output_type": "execute_result"
    }
   ],
   "source": [
    "sum(len(str(num**pow))==pow for num in range(1, 100) for pow in range(1, 100))"
   ]
  },
  {
   "cell_type": "markdown",
   "metadata": {},
   "source": [
    "#### 추가  \n",
    "n=자리수를 보장하는 경우는 $10^{n-1} <= x^n < 10^n$입니다.  \n",
    "여기서 알 수 있는 것은 $n-1 <= log_{10}x^n$과 &nbsp; $x<10$입니다.  \n",
    "좌측을 다시 정리하면 $n<=\\frac{1}{1-log_{10}x}$가 되며, 이것은 x의 n승이 n=자리수가 되는 n의 최대값을 의미합니다.  \n",
    "또한, n의 최소값(n=1)부터 최대값까지는 $x^n$는 모두 n=자리수가 되므로 특정x일 때 n=자리수가 되는 숫자는 n개라고 할 수 있습니다."
   ]
  },
  {
   "cell_type": "code",
   "execution_count": 86,
   "metadata": {},
   "outputs": [
    {
     "data": {
      "text/plain": [
       "49"
      ]
     },
     "execution_count": 86,
     "metadata": {},
     "output_type": "execute_result"
    }
   ],
   "source": [
    "from math import log10\n",
    "sum([int(1/(1-math.log10(x))) for x in range(1,10)])"
   ]
  }
 ],
 "metadata": {
  "kernelspec": {
   "display_name": "Python 3",
   "language": "python",
   "name": "python3"
  },
  "language_info": {
   "codemirror_mode": {
    "name": "ipython",
    "version": 3
   },
   "file_extension": ".py",
   "mimetype": "text/x-python",
   "name": "python",
   "nbconvert_exporter": "python",
   "pygments_lexer": "ipython3",
   "version": "3.5.2"
  }
 },
 "nbformat": 4,
 "nbformat_minor": 1
}
