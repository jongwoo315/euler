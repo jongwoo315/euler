{
 "cells": [
  {
   "cell_type": "markdown",
   "metadata": {},
   "source": [
    "Reciprocal cycles  \n",
    "Problem 26   \n",
    "\n",
    "A unit fraction contains 1 in the numerator. The decimal representation of the unit fractions with denominators 2 to 10 are given:  \n",
    "\n",
    "1/2 = 0.5  \n",
    "1/3 = 0.(3)  \n",
    "1/4 = 0.25  \n",
    "1/5 = 0.2  \n",
    "1/6 = 0.1(6)  \n",
    "1/7 = 0.(142857)  \n",
    "1/8 = 0.125  \n",
    "1/9 = 0.(1)  \n",
    "1/10 = 0.1  \n",
    "\n",
    "Where 0.1(6) means 0.166666..., and has a 1-digit recurring cycle. It can be seen that 1/7 has a 6-digit recurring cycle.  \n",
    "  \n",
    "Find the value of d < 1000 for which 1/d contains the longest recurring cycle in its decimal fraction part.  "
   ]
  },
  {
   "cell_type": "code",
   "execution_count": 120,
   "metadata": {},
   "outputs": [],
   "source": [
    "# 패턴이 소수점 첫째자리부터 시작하면 문제가 없지만, 소수점 첫째자리 미만부터 시작하면 문제가 발생하는 코드\n",
    "def findPattern(denom=2, remain=0, patternLength=0):\n",
    "    remain = 1*10%denom\n",
    "    if remain == 0: return 'not cyclic'\n",
    "    else: \n",
    "        patternLength += 1\n",
    "        while remain != 1:\n",
    "            remainCopy = remain*10 % denom\n",
    "            patternLength += 1\n",
    "            if remainCopy == 0: return 'not cyclic'\n",
    "            \n",
    "            elif remainCopy == remain :\n",
    "                patternLength -= 1\n",
    "                return patternLength\n",
    "            remain = remainCopy\n",
    "    return patternLength"
   ]
  },
  {
   "cell_type": "code",
   "execution_count": null,
   "metadata": {},
   "outputs": [],
   "source": [
    "findPattern(denom=34)"
   ]
  },
  {
   "cell_type": "code",
   "execution_count": 6,
   "metadata": {},
   "outputs": [],
   "source": [
    "# 1차 수정\n",
    "def findPattern(denom=2, remain=0, quotient=0, n=1, patternLength=0):\n",
    "    while 0 == quotient:  # 소수점 첫째자리 미만에서 시작하는 패턴을 인식시키기 위한 while 문\n",
    "        quotient = 1*(10**n)//denom\n",
    "        if quotient > 0:\n",
    "            remain = 1*(10**n)%denom\n",
    "            firstRemain = remain\n",
    "            SecondRemain = firstRemain*10 % denom  # 1/56\n",
    "            patternLength += 1\n",
    "            print ('n: ', n, '\\nfirst remain', firstRemain)\n",
    "            if remain == 0: return 0\n",
    "            break\n",
    "        n+=1\n",
    "        \n",
    "    while remain != 0:  # 나머지가 1이 된다는 것은 최초 분자의 값과 동일해진다는 의미. 패턴이 반복됨을 의미힌다\n",
    "\n",
    "        remainCopy = remain*10 % denom\n",
    "        patternLength += 1\n",
    "        \n",
    "        if remainCopy == 0: return 0\n",
    "        elif remainCopy == remain :  # 만약 나머지가 바로 전 단계의 나머지와 동일하다면 패턴의 길이는 1이 된다.\n",
    "            patternLength = 1\n",
    "            print (denom, '\\t 길이: ', patternLength)\n",
    "            return patternLength\n",
    "        elif firstRemain == remainCopy:  # ~~반복패턴의 첫 나머지가 1이 아닌 경우~~\n",
    "            patternLength -= 1\n",
    "            print (denom, '\\t 길이: ', patternLength)\n",
    "            return patternLength\n",
    "        \n",
    "        elif SecondRemain == remainCopy*10%denom:\n",
    "            print (denom, '\\t 길이: ', patternLength)\n",
    "            return patternLength\n",
    "\n",
    "        elif n>=2 and remainCopy==1: # 1/37처럼 0이 패턴에 포함되는 경우\n",
    "            patternLength += n-1  # 소수점 아래로 내려간 만큼 더한다\n",
    "            print (denom, '\\t 길이: ', patternLength)\n",
    "            return patternLength\n",
    "        \n",
    "        remain = remainCopy\n",
    "        \n",
    "        print (remain*10//denom, 'one cycle', remainCopy)\n",
    "    return patternLength"
   ]
  },
  {
   "cell_type": "code",
   "execution_count": 398,
   "metadata": {},
   "outputs": [
    {
     "name": "stdout",
     "output_type": "stream",
     "text": [
      "0.010309278350515464\n",
      "0.010309278350515463720804554270671360427513718605041503906250000000000000000000000000000000000000000000000000000000000000000000000000000000000000000000\n"
     ]
    }
   ],
   "source": [
    "a = 97\n",
    "print (1/a)\n",
    "print ('{:.150f}'.format(1/(a)))"
   ]
  },
  {
   "cell_type": "code",
   "execution_count": 369,
   "metadata": {},
   "outputs": [
    {
     "data": {
      "text/plain": [
       "112"
      ]
     },
     "execution_count": 369,
     "metadata": {},
     "output_type": "execute_result"
    }
   ],
   "source": [
    "len('0088495575221238938053097345132743362831858407079646017699115044247787610619469026548672566371681415929203539823')"
   ]
  },
  {
   "cell_type": "code",
   "execution_count": 388,
   "metadata": {},
   "outputs": [
    {
     "data": {
      "text/plain": [
       "108"
      ]
     },
     "execution_count": 388,
     "metadata": {},
     "output_type": "execute_result"
    }
   ],
   "source": [
    "len(str('009174311926605504587155963302752293577981651376146788990825688073394495412844036697247706422018348623853211'))"
   ]
  },
  {
   "cell_type": "code",
   "execution_count": null,
   "metadata": {},
   "outputs": [],
   "source": [
    "findPattern(denom=224)"
   ]
  },
  {
   "cell_type": "code",
   "execution_count": 2,
   "metadata": {},
   "outputs": [],
   "source": [
    "def euler26(checkMax=0, longest=0, dic={}):\n",
    "    for x in range(100, checkMax):\n",
    "        if longest < int(findPattern(denom=x)): \n",
    "            longest = int(findPattern(denom=x))\n",
    "            dic['max'] = x\n",
    "\n",
    "    return dic['max']"
   ]
  },
  {
   "cell_type": "code",
   "execution_count": null,
   "metadata": {},
   "outputs": [],
   "source": [
    "euler26(checkMax=227)"
   ]
  },
  {
   "cell_type": "markdown",
   "metadata": {},
   "source": [
    "- 위에서는 나머지를 속도를 생각해 list나 set에 넣지 않고 코드 작성을 시도했다. 그러다보니 if문도 많아지고, 잘못된 결과를 가져오는 경우가 많았다"
   ]
  },
  {
   "cell_type": "markdown",
   "metadata": {},
   "source": [
    "## =================================================================================="
   ]
  },
  {
   "cell_type": "code",
   "execution_count": 156,
   "metadata": {},
   "outputs": [],
   "source": [
    "def check(n, remain=1, count=0):\n",
    "    pat=[]\n",
    "    \n",
    "    if 2<= n <= 9:\n",
    "        while remain != 0:\n",
    "            remain = remain*10 % n  # 2~9사이니까 1x10을 해서 시작한다.\n",
    "            if any(x==remain for x in pat): return count  # tuple은 빈 상태니까 첫번째에서는 넘어간다\n",
    "            pat.add(remain)\n",
    "            count += 1\n",
    "        return 0\n",
    "    \n",
    "    #elif 10<= n <= 99:\n",
    "    else:\n",
    "        while remain != 0:\n",
    "            remain = remain*10 % n\n",
    "            #print (n)\n",
    "            \n",
    "            if any(x==remain for x in pat):\n",
    "                for y in range(len(pat)):\n",
    "                    if pat[y] == remain:\n",
    "                        count -= y\n",
    "                return count\n",
    "            else:\n",
    "                if remain == 10: pat.append(0)\n",
    "                else: pat.append(remain)\n",
    "                count += 1\n",
    "                #print (count, pat)            \n",
    "        return 0"
   ]
  },
  {
   "cell_type": "markdown",
   "metadata": {},
   "source": [
    "## 최종\n",
    "https://en.wikipedia.org/wiki/Repeating_decimal#Decimal_expansion_and_recurrence_sequence\n",
    "- Decimal expansion and recurrence sequence\n",
    "- 1.2에 해당하는 이 부분에서 힌트를 얻었다"
   ]
  },
  {
   "cell_type": "markdown",
   "metadata": {},
   "source": [
    "- 한자리수, 두자리수, 세자리수를 나누어 해볼까했는데, 굳이 필요가 없었다"
   ]
  },
  {
   "cell_type": "code",
   "execution_count": 18,
   "metadata": {},
   "outputs": [],
   "source": [
    "import time"
   ]
  },
  {
   "cell_type": "code",
   "execution_count": 25,
   "metadata": {},
   "outputs": [
    {
     "name": "stdout",
     "output_type": "stream",
     "text": [
      "983\n",
      "2.0907870000000006\n"
     ]
    }
   ],
   "source": [
    "t1 = time.clock()\n",
    "# 접근방식: 나머지가 같으면 패턴이 반복된다.\n",
    "\n",
    "def checkPattern(n, remain=1, count=0):\n",
    "    pat = []\n",
    "    while remain != 0:  # 나머지가 0이면 순환소수가 아니다\n",
    "        remain = remain*10 % n  # 분자를 계속해서 나누어 나머지를 구해야 한다. 초기값은 1\n",
    "\n",
    "        if any(x==remain for x in pat):  # 만약 나머지가 pat(리스트)내에 있다면 실행\n",
    "            # pat을 돌아가며 나머지가 같은 것을 찾는다. 만약 pat[0]이라면 0번째 수부터 remain전까지의 모든 수가 순환에 포함\n",
    "            # 아닐 경우, 예를 들어 pat[2]가 remain과 같다면 0번째, 1번째수는 순환소수에서 제외되고 pat[2]~(remain전)이 순환소수\n",
    "            for y in range(len(pat)):\n",
    "                if pat[y] == remain:\n",
    "                    count -= y  \n",
    "            return n, count\n",
    "        else:  # 나머지가 새로 발생했다면 pat(리스트)에 추가\n",
    "            pat.append(remain)\n",
    "            count += 1\n",
    "    # 처음에 여기 리턴값을 0으로만 해서 아래 for문에서 오류가 발생했었음. return값 형태는 일치시킬 것\n",
    "    return n, 0  \n",
    "\n",
    "def euler26():\n",
    "    longest=0; maxIdx=0    \n",
    "    for x in range(2, 1000):\n",
    "        n, count = checkPattern(x)\n",
    "        if longest < count:\n",
    "            longest = count\n",
    "            maxIdx = n\n",
    "    return maxIdx\n",
    "\n",
    "print (euler26())\n",
    "t2 = time.clock()\n",
    "print (t2 - t1)"
   ]
  },
  {
   "cell_type": "code",
   "execution_count": 7,
   "metadata": {},
   "outputs": [
    {
     "name": "stdout",
     "output_type": "stream",
     "text": [
      "983\n",
      "0.06692100000000067\n"
     ]
    }
   ],
   "source": [
    "# 다른 사람이 한 것\n",
    "t1 = time.clock()\n",
    "import itertools\n",
    "def recur_len(n):\n",
    "    # digits for unit fraction 1/n\n",
    "    r = 10 # initial remainder (10/n)/10\n",
    "    seen = {} # remainder -> first pos\n",
    "    for i in itertools.count(0):\n",
    "        if r == 0:\n",
    "            return 0  # divides evenly.\n",
    "        elif r in seen:\n",
    "            return i-seen[r] # curpos - firstpos\n",
    "        seen[r] = i\n",
    "        r= 10*(r % n)\n",
    "\n",
    "len,i = max((recur_len(i),i) for i in range(2,1000))\n",
    "print (i)\n",
    "t2 = time.clock()\n",
    "print (t2 - t1)"
   ]
  }
 ],
 "metadata": {
  "kernelspec": {
   "display_name": "Python 3",
   "language": "python",
   "name": "python3"
  },
  "language_info": {
   "codemirror_mode": {
    "name": "ipython",
    "version": 3
   },
   "file_extension": ".py",
   "mimetype": "text/x-python",
   "name": "python",
   "nbconvert_exporter": "python",
   "pygments_lexer": "ipython3",
   "version": "3.5.2"
  }
 },
 "nbformat": 4,
 "nbformat_minor": 2
}
