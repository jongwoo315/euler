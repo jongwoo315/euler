{
 "cells": [
  {
   "cell_type": "code",
   "execution_count": 63,
   "metadata": {},
   "outputs": [],
   "source": [
    "import time"
   ]
  },
  {
   "cell_type": "code",
   "execution_count": 37,
   "metadata": {},
   "outputs": [
    {
     "data": {
      "text/plain": [
       "4613732"
      ]
     },
     "execution_count": 37,
     "metadata": {},
     "output_type": "execute_result"
    }
   ],
   "source": [
    "def fibo():\n",
    "    ls = [2]\n",
    "    a = 1; b = 2; c = 0\n",
    "    while True:\n",
    "        c = a + b\n",
    "        a = b\n",
    "        b = c\n",
    "        if c % 2 == 0:\n",
    "            ls.append(c)\n",
    "        if c > 4000000:\n",
    "            break\n",
    "    return sum(x for x in ls)\n",
    "\n",
    "fibo()"
   ]
  },
  {
   "cell_type": "code",
   "execution_count": 34,
   "metadata": {},
   "outputs": [
    {
     "name": "stdout",
     "output_type": "stream",
     "text": [
      "4613732\n"
     ]
    }
   ],
   "source": [
    "# 다른 사람 것\n",
    "a, b, x = 0, 1, 0\n",
    "while x < 4000000:\n",
    "    a, b = b, a+b\n",
    "    if b % 2 == 0:\n",
    "        x += b\n",
    "        \n",
    "print (x)"
   ]
  },
  {
   "cell_type": "markdown",
   "metadata": {},
   "source": [
    "# ================================================================="
   ]
  },
  {
   "cell_type": "code",
   "execution_count": 109,
   "metadata": {},
   "outputs": [
    {
     "name": "stdout",
     "output_type": "stream",
     "text": [
      "6857\n",
      "0.0085640000000069\n"
     ]
    }
   ],
   "source": [
    "t1 = time.clock()\n",
    "\n",
    "def euler3():\n",
    "    num = 2\n",
    "    prime_num = 0\n",
    "    target = 600851475143\n",
    "    prime_factor = []\n",
    "    \n",
    "    while True:\n",
    "        if num==2 or num==3 or num==5:\n",
    "            prime_num = num\n",
    "        elif num%2==0 or num%3==0 or num%5==0:\n",
    "            pass\n",
    "        else:\n",
    "            prime_num = num\n",
    "\n",
    "        if target < 10:\n",
    "            print (max(prime_factor))\n",
    "            break\n",
    "        elif target % prime_num == 0:\n",
    "            target /= prime_num\n",
    "            prime_factor.append(prime_num)\n",
    "            #print (prime_factor)\n",
    "\n",
    "        num += 1\n",
    "        \n",
    "euler3()\n",
    "t2 = time.clock()\n",
    "print (t2 - t1)"
   ]
  },
  {
   "cell_type": "markdown",
   "metadata": {},
   "source": [
    "# ================================================================="
   ]
  },
  {
   "cell_type": "code",
   "execution_count": null,
   "metadata": {},
   "outputs": [],
   "source": [
    "import numpy as np\n",
    "three_digits = np.arange(100, 1000)\n",
    "print (three_digits)"
   ]
  },
  {
   "cell_type": "code",
   "execution_count": 282,
   "metadata": {},
   "outputs": [
    {
     "name": "stdout",
     "output_type": "stream",
     "text": [
      "906609\n",
      "0.8728030000000331\n"
     ]
    }
   ],
   "source": [
    "t1 = time.clock()\n",
    "def euler4():\n",
    "    palindrome_ls = []\n",
    "    for m in three_digits:\n",
    "        for n in three_digits:        \n",
    "            if 100000 <= m*n < 1000000 and m*n//100000 == m*n%10:\n",
    "                if m*n%100000//10000 == m*n%100//10 and m*n%10000//1000 == m*n%1000//100:                \n",
    "                    palindrome_ls.append(m*n)\n",
    "    return max(palindrome_ls)\n",
    "\n",
    "print (euler4())\n",
    "t2 = time.clock()\n",
    "print (t2 - t1)"
   ]
  },
  {
   "cell_type": "code",
   "execution_count": 273,
   "metadata": {},
   "outputs": [],
   "source": [
    "import numpy as np\n",
    "three_digits = np.arange(100, 1000) #numpy.arange가 시간이 많이 걸림"
   ]
  },
  {
   "cell_type": "code",
   "execution_count": 298,
   "metadata": {},
   "outputs": [
    {
     "name": "stdout",
     "output_type": "stream",
     "text": [
      "906609\n",
      "0.9842620000000011\n"
     ]
    }
   ],
   "source": [
    "t1 = time.clock()\n",
    "def euler4_1():\n",
    "    palindrome_ls = []\n",
    "    for m in range(100, 1000):\n",
    "        for n in range(100, 1000):\n",
    "            if len(str(m*n))==6:\n",
    "                if str(m*n)==str(m*n)[::-1]:\n",
    "                    palindrome_ls.append(m*n)\n",
    "                else: pass\n",
    "            else: pass\n",
    "                \n",
    "    return max(palindrome_ls)\n",
    "\n",
    "print (euler4_1())   \n",
    "t2 = time.clock()\n",
    "print (t2 - t1)"
   ]
  },
  {
   "cell_type": "markdown",
   "metadata": {},
   "source": [
    "# ================================================================="
   ]
  },
  {
   "cell_type": "code",
   "execution_count": 365,
   "metadata": {},
   "outputs": [
    {
     "name": "stdout",
     "output_type": "stream",
     "text": [
      "smallest multiple:  232792560\n",
      "0.002399999999965985\n"
     ]
    }
   ],
   "source": [
    "t1 = time.clock()\n",
    "\n",
    "leng = 20\n",
    "def euler5(leng):\n",
    "    \n",
    "    # check prime number\n",
    "    prime_ls = []\n",
    "    def isprime(n):\n",
    "        if n==2 or n==3 or n==5:\n",
    "            prime_ls.append(n)\n",
    "            return True\n",
    "        elif n%2==0 or n%3==0 or n%5==0:\n",
    "            return False\n",
    "        else:\n",
    "            prime_ls.append(n)\n",
    "            return True\n",
    "    \n",
    "    # find smallest multiple\n",
    "    min_multi = 1\n",
    "    for i in range(2, leng):\n",
    "        # apparently, smallest multiple contains all of the prime number within the range.\n",
    "        # so, multiply the prime numbers first.\n",
    "        if isprime(i): min_multi *= i\n",
    "        \n",
    "        # now, some jobs with the numbers left behind\n",
    "        else:\n",
    "            # if min_multi divides the current number, pass\n",
    "            if min_multi % i == 0: pass\n",
    "            \n",
    "            # if it does not, go through the prime number list and divide each from current number \n",
    "            # so that it will find how much more to multiply to min_multi\n",
    "            elif min_multi % i != 0:\n",
    "                p = [p for p in prime_ls if i % p == 0]\n",
    "                min_multi *= i/p[0]\n",
    "    return int(min_multi)\n",
    "\n",
    "print ('smallest multiple: ', euler5(leng))\n",
    "t2 = time.clock()\n",
    "print (t2 - t1)"
   ]
  },
  {
   "cell_type": "code",
   "execution_count": 352,
   "metadata": {},
   "outputs": [
    {
     "name": "stdout",
     "output_type": "stream",
     "text": [
      "232792560\n",
      "0.002414999999984957\n"
     ]
    }
   ],
   "source": [
    "t1 = time.clock()\n",
    "#Recursive prime checker\n",
    "p = lambda x,y : (x%y!=0) and p(x,y-1) if (y!=1) else True\n",
    "\n",
    "# get the minimum multiple of all primes in range of (x)\n",
    "u = lambda x,y : (y if p(y,y-1) else 1 ) * (u(x,y+1) if (y+1<=x) else 1)\n",
    "\n",
    "# find the minimum multiple of all numbers in range of (t) where x is number to evaluate, y possible divisor and z is the increment\n",
    "d = lambda x,y,z,t: d(x+z,1,z,t) if x%y!=0 else x if (y==t) else d(x,y+1,z,t)\n",
    "\n",
    "print (d(u(20,2),1,u(20,2),20))\n",
    "t2 = time.clock()\n",
    "print (t2 - t1)"
   ]
  },
  {
   "cell_type": "code",
   "execution_count": 351,
   "metadata": {},
   "outputs": [
    {
     "name": "stdout",
     "output_type": "stream",
     "text": [
      "First number divisible by all numbers from 1 to 20: 232792560\n",
      "Exection time: 0.006158999999968273 seconds\n"
     ]
    }
   ],
   "source": [
    "import time\n",
    "start_time = time.clock()\n",
    "result=1\n",
    "foundFlag=0\n",
    "\n",
    "#find primes from 1 to 20\n",
    "i=2\n",
    "while i <=20:\n",
    "\tdiv=2\n",
    "\tprime=1\n",
    "\twhile div<i:\n",
    "\t\tif i%div==0:\n",
    "\t\t\tprime=0\n",
    "\t\tdiv+=1\n",
    "\tif (prime==1):\n",
    "\t\tresult=result*i\n",
    "\ti+=1\t\n",
    "\n",
    "i=result #Set increment at product of primes\n",
    "\n",
    "while foundFlag==0:\n",
    "\tdiv=1\n",
    "\tindFlag=1\n",
    "\twhile indFlag==1 and div<=20:\n",
    "\t\tif not(result%div==0):\n",
    "\t\t\tindFlag=0\n",
    "\t\tdiv+=1\n",
    "\t\n",
    "\tif (indFlag==1):\n",
    "\t\tprint (\"First number divisible by all numbers from 1 to 20: %i\" %result)\n",
    "\t\tfoundFlag=1\n",
    "\telse:\n",
    "\t\tresult+=i\n",
    "print(\"Exection time: %s seconds\" % (time.clock() - start_time))"
   ]
  },
  {
   "cell_type": "markdown",
   "metadata": {},
   "source": [
    "# ================================================================="
   ]
  },
  {
   "cell_type": "code",
   "execution_count": 14,
   "metadata": {},
   "outputs": [],
   "source": [
    "import time"
   ]
  },
  {
   "cell_type": "code",
   "execution_count": 26,
   "metadata": {},
   "outputs": [
    {
     "name": "stdout",
     "output_type": "stream",
     "text": [
      "25164150\n",
      "0.002342999999999762\n"
     ]
    }
   ],
   "source": [
    "t1 = time.clock()\n",
    "\n",
    "def euler6(leng):\n",
    "    return sum(m for m in range(leng+1))**2 - sum(n**2 for n in range(leng+1))\n",
    "\n",
    "print (euler6(100))\n",
    "t2 = time.clock()\n",
    "print (t2 - t1)"
   ]
  },
  {
   "cell_type": "code",
   "execution_count": 35,
   "metadata": {},
   "outputs": [
    {
     "name": "stdout",
     "output_type": "stream",
     "text": [
      "25164150\n",
      "0.002432000000000656\n"
     ]
    }
   ],
   "source": [
    "t1 = time.clock()\n",
    "\n",
    "def euler6_1(leng):\n",
    "    start = 1; squared_num_sum = 0; sum_nums = 0\n",
    "    while start < leng+1:\n",
    "        squared_num_sum += start**2\n",
    "        sum_nums += start\n",
    "        start += 1\n",
    "    return sum_nums**2 - squared_num_sum\n",
    "\n",
    "print (euler6_1(100))\n",
    "t2 = time.clock()\n",
    "print (t2 - t1)"
   ]
  },
  {
   "cell_type": "markdown",
   "metadata": {},
   "source": [
    "# ================================================================="
   ]
  },
  {
   "cell_type": "code",
   "execution_count": 491,
   "metadata": {},
   "outputs": [
    {
     "name": "stdout",
     "output_type": "stream",
     "text": [
      "104743\n",
      "0.9584010000000944\n"
     ]
    }
   ],
   "source": [
    "t1 = time.clock()\n",
    "# 소수: 1 과 a라는 소수 사이에 있는 모든 짝수와 홀수로 나뉘지 않는 것\n",
    "# for 문으로 하면 어떤 조건에 맞을 경우 for문은 종료\n",
    "# while문으로 하면 어떤 조건에 맞아도 while문이 종료될 때까지 지속됨\n",
    "\n",
    "# 아래 isprime은 소수 사이의 모든 수를 검사하고, set을 사용하기 때문에 숫자가 커질수록 속도가 기하급수적으로 느려진다\n",
    "'''def isprime(x):\n",
    "    if x==1: return False\n",
    "    elif x==2: return True\n",
    "    elif x>=3:\n",
    "        judge = set()\n",
    "        for a in range(2, x):\n",
    "            if x%a==0: judge.add('0')\n",
    "            else: judge.add('remains')\n",
    "        if judge.issuperset({'0'}): return False\n",
    "        else: return True'''\n",
    "\n",
    "def is_prime(x):\n",
    "    if x==1: return False\n",
    "    if x%2==0: return False # 짝수는 소수가 아님\n",
    "    \n",
    "    r = 3\n",
    "    while r < x**0.5+1: # r의 최대값은 x의 제곱근 (이런 경우면 이해가 쉬움. 121=11*11이고 11로 나뉠 수 있으므로 소수가 아님)\n",
    "        if x % r == 0: return False \n",
    "        r += 2\n",
    "        \n",
    "    return True\n",
    "\n",
    "def euler7(target_pos):\n",
    "    num = 2\n",
    "    nth_prime = 1\n",
    "    while nth_prime < target_pos: # while True보다는 범위를 지정하는 것이 좋을 듯 하다\n",
    "        num += 1        \n",
    "        if is_prime(num):\n",
    "            nth_prime += 1\n",
    "    return num\n",
    "\n",
    "print (euler7(10001))\n",
    "t2 = time.clock()\n",
    "print (t2 - t1)"
   ]
  },
  {
   "cell_type": "code",
   "execution_count": 344,
   "metadata": {},
   "outputs": [],
   "source": [
    "def isprime(n):\n",
    "    if n==1: return False\n",
    "    elif n==2: return True\n",
    "    elif n>=3:\n",
    "        judge = set()\n",
    "        for a in range(2, n):\n",
    "            if n % a == 0: judge.add('0')\n",
    "            else: judge.add('remains')\n",
    "\n",
    "        if judge.issuperset({'0'}): return False\n",
    "        else: return True"
   ]
  },
  {
   "cell_type": "code",
   "execution_count": null,
   "metadata": {},
   "outputs": [],
   "source": [
    "def isprime2(n):\n",
    "    if n == 1: return False\n",
    "    if n == 2: return True\n",
    "    i = 2\n",
    "    while i <= math.sqrt(float(n)):\n",
    "        if n % i == 0: return False\n",
    "        i = i + 1\n",
    "    return True"
   ]
  },
  {
   "cell_type": "code",
   "execution_count": 393,
   "metadata": {},
   "outputs": [
    {
     "name": "stdout",
     "output_type": "stream",
     "text": [
      "False\n",
      "False\n"
     ]
    }
   ],
   "source": [
    "a = 10001\n",
    "print (isprime(a))\n",
    "print (isprime2(a))"
   ]
  },
  {
   "cell_type": "code",
   "execution_count": 500,
   "metadata": {},
   "outputs": [
    {
     "data": {
      "text/plain": [
       "True"
      ]
     },
     "execution_count": 500,
     "metadata": {},
     "output_type": "execute_result"
    }
   ],
   "source": [
    "\n",
    "def ddd(x):\n",
    "    for a in range(2, x):\n",
    "        if x % a == 0: return False\n",
    "    return True\n",
    "\n",
    "ddd(5741)"
   ]
  },
  {
   "cell_type": "code",
   "execution_count": 505,
   "metadata": {},
   "outputs": [
    {
     "name": "stdout",
     "output_type": "stream",
     "text": [
      "104743\n"
     ]
    }
   ],
   "source": [
    "def isPrime( val ): # Simple prime number test\n",
    "    if( val == 2 ):\n",
    "        return True\n",
    "    elif( val == 0 or val == 1 or val%2 == 0 ):\n",
    "        return False\n",
    "    for div in range( 3 , (round( val**.5 )+1) , 2 ):\n",
    "            if( val%div == 0 ):\n",
    "                    return False\n",
    "    return True\n",
    "\n",
    "\n",
    "lim = 10001     # Set to upper limit\n",
    "lst = []\n",
    "cnt = 1\n",
    "while( len(lst) != lim ):\n",
    "    if( isPrime( cnt ) ):\n",
    "        lst.append(cnt)\n",
    "    cnt += 1\n",
    "print( lst[len( lst )  -  1] )"
   ]
  },
  {
   "cell_type": "markdown",
   "metadata": {},
   "source": [
    "# ================================================================="
   ]
  },
  {
   "cell_type": "markdown",
   "metadata": {},
   "source": [
    "8자리 수 내에서 근접한 2자리 숫자의 개수는: 8 - 2 + 1\n",
    "\n",
    "5자리 수 내에서 근접한 3자리 수사의 개수는: 5 - 3 + 1"
   ]
  },
  {
   "cell_type": "code",
   "execution_count": 87,
   "metadata": {},
   "outputs": [],
   "source": [
    "digit1000 = '7316717653133062491922511967442657474235534919493496983520312774506326239578318016984801869478851843858615607891129494954595017379583319528532088055111254069874715852386305071569329096329522744304355766896648950445244523161731856403098711121722383113622298934233803081353362766142828064444866452387493035890729629049156044077239071381051585930796086670172427121883998797908792274921901699720888093776657273330010533678812202354218097512545405947522435258490771167055601360483958644670632441572215539753697817977846174064955149290862569321978468622482839722413756570560574902614079729686524145351004748216637048440319989000889524345065854122758866688116427171479924442928230863465674813919123162824586178664583591245665294765456828489128831426076900422421902267105562632111110937054421750694165896040807198403850962455444362981230987879927244284909188845801561660979191338754992005240636899125607176060588611646710940507754100225698315520005593572972571636269561882670428252483600823257530420752963450'"
   ]
  },
  {
   "cell_type": "code",
   "execution_count": 92,
   "metadata": {},
   "outputs": [],
   "source": [
    "import time"
   ]
  },
  {
   "cell_type": "code",
   "execution_count": 169,
   "metadata": {},
   "outputs": [
    {
     "name": "stdout",
     "output_type": "stream",
     "text": [
      "largest 13 adjacent digits:  23514624000\n",
      "0.0053450000000019315\n"
     ]
    }
   ],
   "source": [
    "t1 = time.clock()\n",
    "# 근접한 자리수\n",
    "j = 13\n",
    "\n",
    "def euler8(adj):\n",
    "    \n",
    "    # 초기 최대값(가장 앞에서 adj로 정한 자리수만큼 곱한 값)\n",
    "    max_num = 1\n",
    "    for n in range(adj):\n",
    "        max_num *= int(digit1000[n])\n",
    "\n",
    "    x = 0\n",
    "    while x < len(digit1000)-adj+1: # 8자리 수 내에서 근접한 2자리 숫자의 개수는: 8 - 2 + 1\n",
    "        if '0' in digit1000[x:x+adj]: \n",
    "            pass # 여기에 continue를 쓰면 while문으로 돌아가는데, x+=1을 하지 않았기 때문에 무한루프 발생\n",
    "        else:\n",
    "            check = 1\n",
    "            for y in digit1000[x:x+adj]:\n",
    "                check *= int(y)\n",
    "            if max_num < check:\n",
    "                max_num = check\n",
    "            else: pass\n",
    "        x += 1\n",
    "    return max_num\n",
    "\n",
    "print ('largest 13 adjacent digits: ', euler8(j))\n",
    "t2 = time.clock()\n",
    "print (t2 - t1)"
   ]
  }
 ],
 "metadata": {
  "kernelspec": {
   "display_name": "Python 3",
   "language": "python",
   "name": "python3"
  },
  "language_info": {
   "codemirror_mode": {
    "name": "ipython",
    "version": 3
   },
   "file_extension": ".py",
   "mimetype": "text/x-python",
   "name": "python",
   "nbconvert_exporter": "python",
   "pygments_lexer": "ipython3",
   "version": "3.5.2"
  }
 },
 "nbformat": 4,
 "nbformat_minor": 1
}
