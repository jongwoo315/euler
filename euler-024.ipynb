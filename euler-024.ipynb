{
 "cells": [
  {
   "cell_type": "markdown",
   "metadata": {},
   "source": [
    "Lexicographic permutations  \n",
    "Problem 24   \n",
    "\n",
    "A permutation is an ordered arrangement of objects. For example, 3124 is one possible permutation of the digits 1, 2, 3 and 4. If all of the permutations are listed numerically or alphabetically, we call it lexicographic order. The lexicographic permutations of 0, 1 and 2 are:\n",
    "\n",
    "<p align='center'>012   021   102   120   201   210</p>\n",
    "\n",
    "What is the millionth lexicographic permutation of the digits 0, 1, 2, 3, 4, 5, 6, 7, 8 and 9?"
   ]
  },
  {
   "cell_type": "code",
   "execution_count": 82,
   "metadata": {},
   "outputs": [
    {
     "data": {
      "text/plain": [
       "3628800"
      ]
     },
     "execution_count": 82,
     "metadata": {},
     "output_type": "execute_result"
    }
   ],
   "source": [
    "from functools import reduce\n",
    "reduce(lambda x,y: x*y, [n for n in range(1, 11)])"
   ]
  },
  {
   "cell_type": "code",
   "execution_count": 81,
   "metadata": {},
   "outputs": [
    {
     "data": {
      "text/plain": [
       "3628800"
      ]
     },
     "execution_count": 81,
     "metadata": {},
     "output_type": "execute_result"
    }
   ],
   "source": [
    "from math import factorial\n",
    "factorial(10)"
   ]
  },
  {
   "cell_type": "code",
   "execution_count": 37,
   "metadata": {},
   "outputs": [],
   "source": [
    "from itertools import permutations"
   ]
  },
  {
   "cell_type": "code",
   "execution_count": 59,
   "metadata": {},
   "outputs": [],
   "source": [
    "millPerm = list(permutations([x for x in range(0, 10)]))[1000000-1]"
   ]
  },
  {
   "cell_type": "code",
   "execution_count": 60,
   "metadata": {},
   "outputs": [
    {
     "data": {
      "text/plain": [
       "'2783915460'"
      ]
     },
     "execution_count": 60,
     "metadata": {},
     "output_type": "execute_result"
    }
   ],
   "source": [
    "''.join(str(x) for x in millPerm)"
   ]
  },
  {
   "cell_type": "code",
   "execution_count": 84,
   "metadata": {},
   "outputs": [],
   "source": [
    "import time"
   ]
  },
  {
   "cell_type": "code",
   "execution_count": 85,
   "metadata": {},
   "outputs": [
    {
     "name": "stdout",
     "output_type": "stream",
     "text": [
      "Lexicographic permutations\n",
      "Ans:  2783915460\n",
      "5.560483000000005\n"
     ]
    }
   ],
   "source": [
    "# 다른 사람이 한 것\n",
    "t1 = time.clock()\n",
    "resultList = []\n",
    "\n",
    "def Permutation(digits, dChosen=set(), numStr=\"\"):\n",
    "    for d in digits:\n",
    "        if len(resultList) > 1000000:\n",
    "            break\n",
    "        if d not in dChosen:\n",
    "            if len(digits) - len(dChosen) > 1:\n",
    "                dChosen.add(d)\n",
    "                Permutation(digits, dChosen, numStr + str(d))\n",
    "                dChosen.remove(d)\n",
    "            else:\n",
    "                resultList.append(numStr + str(d))\n",
    "                break\n",
    "\n",
    "Permutation([i for i in range(10)])\n",
    "\n",
    "print(\"Lexicographic permutations\")\n",
    "print(\"Ans: \", resultList[999999])\n",
    "t2 = time.clock()\n",
    "print (t2 -t1)"
   ]
  }
 ],
 "metadata": {
  "kernelspec": {
   "display_name": "Python 3",
   "language": "python",
   "name": "python3"
  },
  "language_info": {
   "codemirror_mode": {
    "name": "ipython",
    "version": 3
   },
   "file_extension": ".py",
   "mimetype": "text/x-python",
   "name": "python",
   "nbconvert_exporter": "python",
   "pygments_lexer": "ipython3",
   "version": "3.5.2"
  }
 },
 "nbformat": 4,
 "nbformat_minor": 2
}
