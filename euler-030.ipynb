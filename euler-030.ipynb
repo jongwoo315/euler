{
 "cells": [
  {
   "cell_type": "markdown",
   "metadata": {},
   "source": [
    "Digit fifth powers  \n",
    "Problem 30  \n",
    "\n",
    "Surprisingly there are only three numbers that can be written as the sum of fourth powers of their digits:  \n",
    "\n",
    "$1634 = 1^4 + 6^4 + 3^4 + 4^4$  \n",
    "$8208 = 8^4 + 2^4 + 0^4 + 8^4$  \n",
    "$9474 = 9^4 + 4^4 + 7^4 + 4^4$  \n",
    "\n",
    "As $1 = 1^4$ is not a sum it is not included.  \n",
    "\n",
    "The sum of these numbers is 1634 + 8208 + 9474 = 19316.  \n",
    "\n",
    "Find the sum of all the numbers that can be written as the sum of fifth powers of their digits."
   ]
  },
  {
   "cell_type": "code",
   "execution_count": 124,
   "metadata": {},
   "outputs": [
    {
     "name": "stdout",
     "output_type": "stream",
     "text": [
      "443839\n",
      "7.527795000000026\n"
     ]
    }
   ],
   "source": [
    "def findUpper(n=1, x=5):\n",
    "    # n자리수의 각숫자를 x승한 최대값: n * 9**x\n",
    "    # 4자리수의 각숫자를 5승한 최대값: 4* 9**5\n",
    "    # ex) 만약 위의 값이 4자리수의 최대값 9999보다 작으면 같은 자리수의 다른 값들은 볼 필요도 없으므로 멈춘다\n",
    "    while n>=1:\n",
    "        if 10**n-1 < n*(9**5): n += 1\n",
    "        else: break\n",
    "    return n\n",
    "\n",
    "def euler30():\n",
    "    sumFifthPow = 0\n",
    "    n = findUpper()\n",
    "    for x in range(2, 10**n):\n",
    "        numToStr = 0\n",
    "        for a in range(0, len(str(x))):\n",
    "            numToStr += int(str(x)[a])**5\n",
    "        if x == numToStr: sumFifthPow += numToStr\n",
    "    return sumFifthPow\n",
    "            \n",
    "if __name__ == '__main__':\n",
    "    import time\n",
    "    t1 = time.clock()\n",
    "    print (euler30())\n",
    "    t2 = time.clock()\n",
    "    print (t2 - t1)"
   ]
  }
 ],
 "metadata": {
  "kernelspec": {
   "display_name": "Python 3",
   "language": "python",
   "name": "python3"
  },
  "language_info": {
   "codemirror_mode": {
    "name": "ipython",
    "version": 3
   },
   "file_extension": ".py",
   "mimetype": "text/x-python",
   "name": "python",
   "nbconvert_exporter": "python",
   "pygments_lexer": "ipython3",
   "version": "3.5.2"
  }
 },
 "nbformat": 4,
 "nbformat_minor": 2
}
