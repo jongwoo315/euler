{
 "cells": [
  {
   "cell_type": "markdown",
   "metadata": {},
   "source": [
    "**Names scores**  \n",
    "*Problem 22*  \n",
    "\n",
    "Using names.txt (right click and 'Save Link/Target As...'), a 46K text file containing over five-thousand first names, begin by sorting it into alphabetical order. Then working out the alphabetical value for each name, multiply this value by its alphabetical position in the list to obtain a name score.  \n",
    "\n",
    "For example, when the list is sorted into alphabetical order, COLIN, which is worth 3 + 15 + 12 + 9 + 14 = 53, is the 938th name in the list. So, COLIN would obtain a score of 938 × 53 = 49714.\n",
    "\n",
    "What is the total of all the name scores in the file?"
   ]
  },
  {
   "cell_type": "code",
   "execution_count": 1,
   "metadata": {},
   "outputs": [
    {
     "data": {
      "text/plain": [
       "'abcdefghijklmnopqrstuvwxyz'"
      ]
     },
     "execution_count": 1,
     "metadata": {},
     "output_type": "execute_result"
    }
   ],
   "source": [
    "Alphabet = 'abcdefghijklmnopqrstuvwxyz'\n",
    "Alphabet"
   ]
  },
  {
   "cell_type": "code",
   "execution_count": 91,
   "metadata": {},
   "outputs": [],
   "source": [
    "Point = {}\n",
    "for x in range(1, len(Alphabet)+1):\n",
    "    Point[Alphabet.upper()[x-1]] = x"
   ]
  },
  {
   "cell_type": "code",
   "execution_count": 82,
   "metadata": {},
   "outputs": [],
   "source": [
    "f = open('euler-22.txt')\n",
    "\n",
    "ls = []\n",
    "for x in f.readlines():\n",
    "    ls.append(x.split(','))\n",
    "\n",
    "ls = ls[0]\n",
    "\n",
    "ls = [x.replace('\"', '') for x in ls]\n",
    "\n",
    "SortedList = sorted(ls)"
   ]
  },
  {
   "cell_type": "code",
   "execution_count": 108,
   "metadata": {},
   "outputs": [
    {
     "data": {
      "text/plain": [
       "871198282"
      ]
     },
     "execution_count": 108,
     "metadata": {},
     "output_type": "execute_result"
    }
   ],
   "source": [
    "TotalScore = 0\n",
    "Seq = 1\n",
    "for Name in SortedList:\n",
    "    PointsForEachName = 0\n",
    "    for Alphabet in Name:\n",
    "        PointsForEachName += Point.get(Alphabet)\n",
    "    TotalScore += Seq*PointsForEachName\n",
    "    Seq += 1\n",
    "    \n",
    "TotalScore"
   ]
  }
 ],
 "metadata": {
  "kernelspec": {
   "display_name": "Python 3",
   "language": "python",
   "name": "python3"
  },
  "language_info": {
   "codemirror_mode": {
    "name": "ipython",
    "version": 3
   },
   "file_extension": ".py",
   "mimetype": "text/x-python",
   "name": "python",
   "nbconvert_exporter": "python",
   "pygments_lexer": "ipython3",
   "version": "3.5.2"
  }
 },
 "nbformat": 4,
 "nbformat_minor": 2
}
