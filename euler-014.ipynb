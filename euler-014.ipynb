{
 "cells": [
  {
   "cell_type": "code",
   "execution_count": 56,
   "metadata": {},
   "outputs": [
    {
     "data": {
      "text/plain": [
       "(525, 837799)"
      ]
     },
     "execution_count": 56,
     "metadata": {},
     "output_type": "execute_result"
    }
   ],
   "source": [
    "# 짝수는 /2로 줄어들기만 하므로 제외한다. 시작 수사가 홀수인 것만 체크하면 된다\n",
    "def euler14():\n",
    "    max_chain = 0\n",
    "    for a in range(999999, 2, -2):\n",
    "        chain = 1\n",
    "\n",
    "        num_check = a\n",
    "        while num_check > 2:\n",
    "            if num_check % 2 == 0:\n",
    "                num_check = num_check/2\n",
    "                chain += 1\n",
    "            else:\n",
    "                num_check = 3*num_check + 1\n",
    "                chain += 1\n",
    "        chain += 1  # 이 코드에서 마지막 1일 때는 제외하고 있으므로 한 번 더 더해준다\n",
    "\n",
    "        if chain > max_chain:\n",
    "            max_chain = chain\n",
    "            num = a\n",
    "        \n",
    "    return max_chain, num\n",
    "\n",
    "euler14()"
   ]
  },
  {
   "cell_type": "markdown",
   "metadata": {},
   "source": [
    "## 이런 경우에는 함수를 2개 만들어서 하는 방법을 생각해보자"
   ]
  },
  {
   "cell_type": "code",
   "execution_count": 94,
   "metadata": {},
   "outputs": [],
   "source": [
    "# 내가 다시 한 것\n",
    "\n",
    "# only checks odd numbers\n",
    "def chain_length(number):\n",
    "    chain = 1\n",
    "    number_ = 3*number + 1\n",
    "    \n",
    "    while number_ >= 2:\n",
    "        if number_ % 2 == 0:\n",
    "            number_ = number_ / 2\n",
    "            chain += 1\n",
    "        else:\n",
    "            number_ = 3*number_ + 1\n",
    "            chain += 1\n",
    "    chain += 1\n",
    "    \n",
    "    return chain, number\n",
    "\n",
    "# no need to check even numbers\n",
    "def check_max_chain(target):\n",
    "    max_chain = 0\n",
    "    number_of_max_chain = 0\n",
    "    for a in range(target, 2, -2):\n",
    "        if chain_length(a)[0] > max_chain:\n",
    "            max_chain = chain_length(a)[0]\n",
    "            number_of_max_chain = chain_length(a)[1]\n",
    "    return max_chain, number_of_max_chain"
   ]
  },
  {
   "cell_type": "code",
   "execution_count": 103,
   "metadata": {},
   "outputs": [
    {
     "data": {
      "text/plain": [
       "(525, 837799)"
      ]
     },
     "execution_count": 103,
     "metadata": {},
     "output_type": "execute_result"
    }
   ],
   "source": [
    "check_max_chain(999999)"
   ]
  },
  {
   "cell_type": "code",
   "execution_count": 54,
   "metadata": {},
   "outputs": [
    {
     "name": "stdout",
     "output_type": "stream",
     "text": [
      "(837799, 525)\n"
     ]
    }
   ],
   "source": [
    "# 다른 사람 것, # 3의 경우, 5의 패턴을 포함하므로 이것을 이용하면 계산 속도가 빨라진다\n",
    "# solution 1\n",
    "def collatz(n,D):\n",
    "    length = 1\n",
    "    k = n\n",
    "    while k!=1:\n",
    "        if k%2==0:\n",
    "            k //= 2\n",
    "        else:\n",
    "            k = 3*k+1\n",
    "        if k in D.keys():\n",
    "            D[n] = length+D[k]\n",
    "            return D[n]\n",
    "        length += 1\n",
    "    D[n] = length\n",
    "    return D[n]\n",
    "\n",
    "def longest_chain(n,D):\n",
    "    max_length = 0\n",
    "    max_start = 0\n",
    "    for i in range(1,n):\n",
    "        length = collatz(i,D)\n",
    "        if max_length<length:\n",
    "            max_length = length\n",
    "            max_start=i\n",
    "    return max_start, max_length\n",
    "\n",
    "dic={}\n",
    "n = 1000000\n",
    "print(longest_chain(n,dic))"
   ]
  }
 ],
 "metadata": {
  "kernelspec": {
   "display_name": "Python 3",
   "language": "python",
   "name": "python3"
  },
  "language_info": {
   "codemirror_mode": {
    "name": "ipython",
    "version": 3
   },
   "file_extension": ".py",
   "mimetype": "text/x-python",
   "name": "python",
   "nbconvert_exporter": "python",
   "pygments_lexer": "ipython3",
   "version": "3.5.2"
  }
 },
 "nbformat": 4,
 "nbformat_minor": 2
}
