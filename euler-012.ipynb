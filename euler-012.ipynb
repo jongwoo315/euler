{
 "cells": [
  {
   "cell_type": "code",
   "execution_count": 98,
   "metadata": {},
   "outputs": [],
   "source": [
    "import itertools\n",
    "import numpy as np\n",
    "import time"
   ]
  },
  {
   "cell_type": "code",
   "execution_count": 106,
   "metadata": {},
   "outputs": [
    {
     "name": "stdout",
     "output_type": "stream",
     "text": [
      "(76576500, 576)\n",
      "7.6764969999999835\n"
     ]
    }
   ],
   "source": [
    "t1 = time.clock()\n",
    "\n",
    "def euler12(n):    \n",
    "    tri_number = 1  # divisor의 초기값을 2로 지정했으므로 시작값은 0이 아니라 1이다.(실질적으로 3부터 시작한다)\n",
    "    \n",
    "    for a in itertools.count(2):\n",
    "        divisor = 2  # 1보다 큰 자연수는 자기자신과 1은 항상 약수로 가진다\n",
    "        tri_number += a\n",
    "        half = int(np.sqrt(tri_number))  # 삼진수가 커질수록 모든 자연수에 대해 약수를 구하는 것은 시간이 많이 걸림 # 제곱근을 사용\n",
    "        \n",
    "        for b in range(2, half+1):\n",
    "            if tri_number % b == 0:\n",
    "                divisor += 2  # 55의 약수- 1, 5, 11, 55 (5로 나누어지면 11도 약수. 한개가 가능하면 약수의 개수는 +2개)\n",
    "                \n",
    "        if divisor >= n:\n",
    "            return tri_number, divisor\n",
    "            break\n",
    "\n",
    "print (euler12(500))\n",
    "t2 = time.clock()\n",
    "print (t2 - t1)"
   ]
  },
  {
   "cell_type": "code",
   "execution_count": 96,
   "metadata": {},
   "outputs": [
    {
     "name": "stdout",
     "output_type": "stream",
     "text": [
      "3 \t [1, 3] \t 1.73205080757\n",
      "6 \t [1, 2, 3, 6] \t 2.44948974278\n",
      "10 \t [1, 2, 5, 10] \t 3.16227766017\n",
      "15 \t [1, 3, 5, 15] \t 3.87298334621\n",
      "21 \t [1, 3, 7, 21] \t 4.58257569496\n",
      "28 \t [1, 2, 4, 7, 14, 28] \t 5.29150262213\n",
      "36 \t [1, 2, 3, 4, 6, 9, 12, 18, 36] \t 6.0\n",
      "45 \t [1, 3, 5, 9, 15, 45] \t 6.7082039325\n",
      "55 \t [1, 5, 11, 55] \t 7.4161984871\n",
      "66 \t [1, 2, 3, 6, 11, 22, 33, 66] \t 8.12403840464\n"
     ]
    }
   ],
   "source": [
    "# 삼진수들을 자세히 보면, 제곱근한 숫자가 삼진수의 약수들의 딱 절반을 가리키고 있다. (위에서 계산할 때 제곱근이 자연수라면 그것도 포함시키면 되므로 +1을 한다)\n",
    "tri = 1\n",
    "for a in itertools.count(2):\n",
    "    ls = []\n",
    "    tri += a\n",
    "    for b in range(1, tri+1):\n",
    "        if tri % b == 0:\n",
    "            ls.append(b)    \n",
    "    print (tri, '\\t', ls, '\\t', np.sqrt(tri))\n",
    "    if tri >= 60:\n",
    "        break"
   ]
  },
  {
   "cell_type": "code",
   "execution_count": 113,
   "metadata": {},
   "outputs": [
    {
     "name": "stdout",
     "output_type": "stream",
     "text": [
      "576\n",
      "76576500\n",
      "7.978273999999999\n"
     ]
    }
   ],
   "source": [
    "t1 = time.clock()\n",
    "factors = lambda n: {f for i in range(1, int(n**0.5)+1) if n % i == 0 for f in [i, n//i]}\n",
    "\n",
    "x = 1\n",
    "cur_sum = 0\n",
    "while True:\n",
    "    cur_sum += x\n",
    "    facts = factors(cur_sum)\n",
    "    if len(facts) > 500:\n",
    "        print(len(facts))\n",
    "        print(cur_sum)\n",
    "        break\n",
    "    x += 1\n",
    "    \n",
    "t2 = time.clock()\n",
    "print(t2 - t1)"
   ]
  }
 ],
 "metadata": {
  "kernelspec": {
   "display_name": "Python 3",
   "language": "python",
   "name": "python3"
  },
  "language_info": {
   "codemirror_mode": {
    "name": "ipython",
    "version": 3
   },
   "file_extension": ".py",
   "mimetype": "text/x-python",
   "name": "python",
   "nbconvert_exporter": "python",
   "pygments_lexer": "ipython3",
   "version": "3.5.2"
  }
 },
 "nbformat": 4,
 "nbformat_minor": 2
}
