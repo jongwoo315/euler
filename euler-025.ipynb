{
 "cells": [
  {
   "cell_type": "markdown",
   "metadata": {},
   "source": [
    "1000-digit Fibonacci number  \n",
    "Problem 25  \n",
    "\n",
    "The Fibonacci sequence is defined by the recurrence relation:  \n",
    "\n",
    "$F_n = F_{n−1} + F_{n−2}$, where $F_1$ = 1 and $F_2$ = 1.  \n",
    "Hence the first 12 terms will be:\n",
    "\n",
    "$F_1$ = 1  \n",
    "$F_2$ = 1  \n",
    "$F_3$ = 2  \n",
    "$F_4$ = 3  \n",
    "$F_5$ = 5  \n",
    "$F_6$ = 8  \n",
    "$F_7$ = 13  \n",
    "$F_8$ = 21  \n",
    "$F_9$ = 34  \n",
    "$F_{10}$ = 55  \n",
    "$F_{11}$ = 89  \n",
    "$F_{12}$ = 144  \n",
    "\n",
    "The 12th term, F12, is the first term to contain three digits.  \n",
    "\n",
    "What is the index of the first term in the Fibonacci sequence to contain 1000 digits?"
   ]
  },
  {
   "cell_type": "code",
   "execution_count": 40,
   "metadata": {},
   "outputs": [],
   "source": [
    "def fibo(a=1, b=1, c=0, idx=2):\n",
    "    while len(str(c)) < 1000:\n",
    "        c = a + b  # < 3으로 해도 144가 출력되는 이유: 89일 때에는 길이가 2이므로 넘어가게 되고 144가 마지막으로 출력된다\n",
    "        a = b\n",
    "        b = c\n",
    "        idx += 1\n",
    "        #print(c)\n",
    "    return idx"
   ]
  },
  {
   "cell_type": "code",
   "execution_count": 41,
   "metadata": {},
   "outputs": [
    {
     "data": {
      "text/plain": [
       "4782"
      ]
     },
     "execution_count": 41,
     "metadata": {},
     "output_type": "execute_result"
    }
   ],
   "source": [
    "fibo()"
   ]
  }
 ],
 "metadata": {
  "kernelspec": {
   "display_name": "Python 3",
   "language": "python",
   "name": "python3"
  },
  "language_info": {
   "codemirror_mode": {
    "name": "ipython",
    "version": 3
   },
   "file_extension": ".py",
   "mimetype": "text/x-python",
   "name": "python",
   "nbconvert_exporter": "python",
   "pygments_lexer": "ipython3",
   "version": "3.5.2"
  }
 },
 "nbformat": 4,
 "nbformat_minor": 2
}
