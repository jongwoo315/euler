{
 "cells": [
  {
   "cell_type": "markdown",
   "metadata": {},
   "source": [
    "Special Pythagorean triplet  \n",
    "Problem 9  \n",
    "\n",
    "A Pythagorean triplet is a set of three natural numbers, a < b < c, for which,  \n",
    "\n",
    "$a^2 + b^2 = c^2$  \n",
    "\n",
    "For example, $3^2 + 4^2 = 9 + 16 = 25 = 5^2$.  \n",
    "There exists exactly one Pythagorean triplet for which a + b + c = 1000.  \n",
    "Find the product abc.  "
   ]
  },
  {
   "cell_type": "code",
   "execution_count": 4,
   "metadata": {},
   "outputs": [],
   "source": [
    "import time"
   ]
  },
  {
   "cell_type": "code",
   "execution_count": 5,
   "metadata": {},
   "outputs": [
    {
     "name": "stdout",
     "output_type": "stream",
     "text": [
      "31875000\n",
      "0.3458439999999998\n"
     ]
    }
   ],
   "source": [
    "t1 = time.clock()\n",
    "def euler9():\n",
    "    sum_ = 0\n",
    "    for a in range(1, 1000):\n",
    "        for b in range(1, 1000):\n",
    "            sum_ = (a**2 + b**2)**0.5 + a + b # a+b+c=1000, a^2+b^2=c^2 정리한 것 # c= np.sqrt(a^2+b^2)\n",
    "            if sum_ == int(sum_) and sum_ == 1000 and a < b:\n",
    "                print (a*b*int((a**2 + b**2)**0.5))\n",
    "                return \n",
    "\n",
    "euler9()\n",
    "t2 = time.clock()\n",
    "print (t2 - t1)"
   ]
  },
  {
   "cell_type": "code",
   "execution_count": 6,
   "metadata": {},
   "outputs": [
    {
     "name": "stdout",
     "output_type": "stream",
     "text": [
      "31875000\n",
      "0.2419380000000002\n"
     ]
    }
   ],
   "source": [
    "t1 = time.clock()\n",
    "def get_product():\n",
    "    TOTAL = 1000\n",
    "    for a in range(3, 1001):\n",
    "        SUBTOTAL = TOTAL - a\n",
    "        for b in range(1, SUBTOTAL+1):\n",
    "            c = SUBTOTAL - b\n",
    "            if a**2 + b**2 == c**2:\n",
    "                #print (a, b, c)\n",
    "                print (a*b*c)\n",
    "                return\n",
    "\n",
    "get_product()\n",
    "t2 = time.clock()\n",
    "print (t2 - t1)"
   ]
  }
 ],
 "metadata": {
  "kernelspec": {
   "display_name": "Python 3",
   "language": "python",
   "name": "python3"
  },
  "language_info": {
   "codemirror_mode": {
    "name": "ipython",
    "version": 3
   },
   "file_extension": ".py",
   "mimetype": "text/x-python",
   "name": "python",
   "nbconvert_exporter": "python",
   "pygments_lexer": "ipython3",
   "version": "3.5.2"
  }
 },
 "nbformat": 4,
 "nbformat_minor": 2
}
